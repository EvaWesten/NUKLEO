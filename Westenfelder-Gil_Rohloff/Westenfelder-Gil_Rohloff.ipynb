{
 "cells": [
  {
   "cell_type": "markdown",
   "id": "605d0c87",
   "metadata": {},
   "source": [
    "<br>\n",
    "<p style=\"font-size:30px; color: #3776ab; text-align:center\"><b>\n",
    "Big Bang Nucleosynthesis\n",
    "<b></p>\n",
    "    \n",
    "   <p style=\"font-size:15px;color: #3776ab; text-align:center\"><b>\n",
    "Notebook by: Eva Westenfelder Gil, Julian Rohloff"
   ]
  },
  {
   "cell_type": "markdown",
   "id": "267b2112",
   "metadata": {},
   "source": [
    "In this notebook we will visualize the nuclear processes that took place during the first minutes after the big bang. For that we solve the differential equations for the posible reactions during that time period. The evolution of the abundances are then visualized, first as a function of temperature and then as function of time. \n",
    "\n",
    "We also visualize the abundances for $4 Y_{{}^4 \\mathrm{He}}$,$\\frac{Y_{d}}{Y_{p}}$ and $\\frac{Y_{{}^7 \\mathrm{Li}}}{Y_{p}}$ by $0.1\\,GK$ as a function of of the nucleon-to-photon ratio $\\eta$\n",
    "in the range $1 \\times 10^{-10}$ to $10 \\times 10^{-10}$"
   ]
  },
  {
   "cell_type": "markdown",
   "id": "45fc67e7",
   "metadata": {},
   "source": [
    "# Preparation for solving the differential equations"
   ]
  },
  {
   "cell_type": "code",
   "execution_count": 1,
   "id": "5cf1028e",
   "metadata": {},
   "outputs": [],
   "source": [
    "from mendeleev import element\n",
    "from mendeleev import isotope\n",
    "import scipy as sci\n",
    "from scipy.integrate import solve_ivp\n",
    "import scipy.constants as constant\n",
    "import numpy as np\n",
    "import matplotlib.pyplot as plt\n",
    "from matplotlib import cm, animation\n",
    "from matplotlib.animation import FuncAnimation\n",
    "from IPython.display import Video\n",
    "import seaborn as sns\n",
    "from IPython.display import Video"
   ]
  },
  {
   "cell_type": "markdown",
   "id": "411482a6",
   "metadata": {},
   "source": [
    "First of all we imported all the necessary python libraries to solve the equations and visualize the abundances."
   ]
  },
  {
   "cell_type": "markdown",
   "id": "a9830352",
   "metadata": {},
   "source": [
    "### Constants"
   ]
  },
  {
   "cell_type": "markdown",
   "id": "ac007ccf",
   "metadata": {},
   "source": [
    "Here are all necessary constants. Most of them were given in instructions and in some cases redefined with other unit sizes to facilitate the visibility of some equations. The constants left undefined in the instructions are natural constants, which can are imported from SciPy's constants database"
   ]
  },
  {
   "cell_type": "code",
   "execution_count": 2,
   "id": "acfca357",
   "metadata": {},
   "outputs": [],
   "source": [
    "kB=0.0861734 #in MeV/GK\n",
    "kBG=0.0861734 *10**(-3) #in GeV/GK\n",
    "hsc=1.97327 * 10**(-11) #in MeV*cm\n",
    "hscG=hsc*10**(-3) #in GeV*cm\n",
    "c=sci.constants.c #in cm/s\n",
    "pi=sci.constants.pi\n",
    "muc2= 931.494 # in MeV\n",
    "lambda_beta=0.00113443 #in s^-1\n",
    "eta=6.2 * 10**(-10) #dimensionless\n",
    "delta_mc2=1.293 #in MeV\n",
    "m_n=sci.constants.physical_constants[\"neutron mass in u\"][0]"
   ]
  },
  {
   "cell_type": "code",
   "execution_count": 3,
   "id": "77b0d6d3",
   "metadata": {},
   "outputs": [],
   "source": [
    "# Parameters for the calculation of the reaction rates\n",
    "SIGV_PARAMS = [\n",
    "    # [a1, a2, a3, a4, a5, a6, a7]\n",
    "    [-38.5922, -0.00630249, 1.25159, -8.86637, 1.78419, -0.198181, 1.92028], # Reaction 2\n",
    "    [-46.8616, -0.00295519, -3.23527, 1.42088, -0.126344, 0.00974799, -0.178045], # Reaction 3\n",
    "    [-42.1159, 0.0101979, -6.1653, 10.9227, -0.654152, 0.0352096, -3.41782], # Reaction 4\n",
    "    [-43.1056, 0.0150095, -6.85042, 12.3633, -0.638696, 0.0261701, -4.16095], # Reaction 5\n",
    "    [-34.1675, -0.523, 4.63833e-10, -1.67345e-9, 1.85876e-10, -1.70346e-11, -0.666667], # Reaction 6\n",
    "    [-31.7974, -0.0137498, -5.56986, -14.1977, 2.27582, -0.19545, 2.92443], # Reaction 7\n",
    "    [-34.1075, -0.000673532, 0.0793345, -0.532712, 0.13522, -0.00748114, 0.104904], # Reaction 8\n",
    "    [-34.8617, -1.72, -4.68818e-9, 1.21488e-8, -1.10092e-9, 8.94955e-11, -0.5], # Reaction 9\n",
    "    [-38.9414, -0.000245919, -12.7758, -0.489479, -0.0881085, 0.00557341, -0.582926], # Reaction 10\n",
    "    [-32.5903, -0.0032998, -7.83923, -2.1531, 0.133483, -0.00732414, 0.20178], # Reaction 11\n",
    "    [-32.3946, 9.06317e-7, -2.04247e-9, -1.167, -4.39104e-10, 3.41812e-11, -1.98589e-9] # Reaction 12\n",
    "]\n",
    "\n"
   ]
  },
  {
   "cell_type": "markdown",
   "id": "105c9015",
   "metadata": {},
   "source": [
    "### Collecting necessary data about the involved particles"
   ]
  },
  {
   "cell_type": "markdown",
   "id": "a9eb0389",
   "metadata": {},
   "source": [
    "In order to solve the differential equations, we need to know the spin and the mass of each particle involved in the reactions. Both of them can be found in the mendeleev library. Recalling said library everytime the mass or spin of particle needs to be used would make the program noticebly slow. To speed up the process we decided to write a 'Particle' class containing all the needed information "
   ]
  },
  {
   "cell_type": "code",
   "execution_count": 8,
   "id": "e8f33d09",
   "metadata": {},
   "outputs": [],
   "source": [
    "#Functions to write spins from mendeleev (strings) to floats:\n",
    "\n",
    "#In mendelev some of the spin are written as a fraction \n",
    "#so a differentiation between natural numbers and fraction \n",
    "#is needed to proceed\n",
    "\n",
    "def Spin_to_float(string):\n",
    "    if (\"/\" in string):\n",
    "        # Split the string into two parts using the forward slash\n",
    "        parts = string.split(\"/\")\n",
    "        # Convert the numerator and denominator to floats\n",
    "        numerator = float(parts[0])\n",
    "        denominator = float(parts[1])\n",
    "        # Divide the numerator by the denominator\n",
    "        result = numerator / denominator\n",
    "        return result\n",
    "    \n",
    "    else:\n",
    "        return float(string)"
   ]
  },
  {
   "cell_type": "code",
   "execution_count": 9,
   "id": "66572525",
   "metadata": {},
   "outputs": [],
   "source": [
    "#The Definition for the particle\n",
    "class Particle:\n",
    "    def __init__(self,mass,Z,A,j,number):\n",
    "        self.mass = mass *muc2 #mass from mendeleev is in u, so it must be first converted to MeV\n",
    "        self.Z = Z #Proton number-Not \n",
    "        self.A = A #Mass number\n",
    "        self.spin = Spin_to_float(j) #spin value\n",
    "        self.number=number #number used for organizing saving spaces. Becomes relevant later"
   ]
  },
  {
   "cell_type": "markdown",
   "id": "fbb837c9",
   "metadata": {},
   "source": [
    "Each involved particle is saved as class object with its spin, proton number, mass number and from us defined number. This number will be used to sort the abundance rates and abundances."
   ]
  },
  {
   "cell_type": "code",
   "execution_count": 10,
   "id": "26379998",
   "metadata": {},
   "outputs": [],
   "source": [
    "neutron=Particle(m_n, 0,1,'1/2',0)\n",
    "H1= Particle(isotope(1, 1).mass,1,1,isotope(1, 1).spin,1) \n",
    "H2= Particle(isotope(1, 2).mass,1,2,isotope(1, 2).spin,2)\n",
    "H3=Particle(isotope(1, 3).mass,1, 3,isotope(1, 3).spin,3)\n",
    "He3=Particle(isotope(2, 3).mass,2, 3,isotope(2, 3).spin,4)\n",
    "He4=Particle(isotope(2, 4).mass,2, 4,isotope(2, 4).spin,5)\n",
    "Li7=Particle(isotope(3, 7).mass,3, 7,isotope(3, 7).spin,6)\n",
    "Be7=Particle(isotope(4, 7).mass,4, 7,isotope(4,7).spin,7)\n",
    "\n",
    "#Just in case it becomes more comfortable to write them like this:\n",
    "n=neutron\n",
    "p=H1 \n",
    "d=H2\n",
    "t=H3\n",
    "al=He4"
   ]
  },
  {
   "cell_type": "markdown",
   "id": "bde074a7",
   "metadata": {},
   "source": [
    "An important step for solving the different differential equations is to define the initial values of the to be solved functions. In the given documentation it is specified, that by $T=9GK$ the  ratio of neutrons to protons is given by $$ \\frac{Y_n}{Y_p} = \\exp\\left\\{ -\\frac{m_n c^2 - m_p c^2}{k_B T} \\right\\} $$ with $m_n c^2 - m_p c^2= 1.293$ MeV.\n",
    "\n",
    "From that we could conclude that $1=Y_p + Y_n = Y_p \\cdot (1+ \\exp\\left\\{ -\\frac{m_n c^2 - m_p c^2}{k_B T} \\right\\})$\n",
    "\n",
    "From this formula we can calculate the initial value of $Y_p$ which is given by: \n",
    "\n",
    "\n",
    "$Y_p=\\frac{1}{1+ \\exp\\left\\{ -\\frac{m_n c^2 - m_p c^2}{k_B T} \\right\\}}$\n",
    "\n",
    "The solutions are calculated and saved within the array \"Menge_liste\" with the initial values of all other particles, which would be $0$, since they didn't exist at $T=9GK$"
   ]
  },
  {
   "cell_type": "code",
   "execution_count": 11,
   "id": "fd4a88bf",
   "metadata": {},
   "outputs": [],
   "source": [
    "YnYp = np.exp(-delta_mc2/(kB*9))\n",
    "Yp0= 1 /(1+YnYp)\n",
    "Yn0=YnYp* Yp0\n"
   ]
  },
  {
   "cell_type": "code",
   "execution_count": 12,
   "id": "7843b036",
   "metadata": {},
   "outputs": [],
   "source": [
    "Y_n0=Yn0 \n",
    "Y_H10=Yp0\n",
    "Y_H20=0\n",
    "Y_H30=0\n",
    "Y_He30=0\n",
    "Y_He40=0\n",
    "Y_Li70=0\n",
    "Y_Be70=0\n",
    "\n",
    "\n",
    "Menge_liste=[Y_n0,Y_H10,Y_H20,Y_H30,Y_He30,Y_He40,Y_Li70,Y_Be70]\n"
   ]
  },
  {
   "cell_type": "markdown",
   "id": "72e0ce86",
   "metadata": {},
   "source": [
    "The function \"r_number_to_reaction_particles(r_number)\" organises a set of up to four particles to a reaction number \"r_number\". The image given with the documentation was used as a reference for the reaction number:"
   ]
  },
  {
   "cell_type": "markdown",
   "id": "45fdeb49",
   "metadata": {},
   "source": [
    "![Reaction network](images/reaction-network.png)"
   ]
  },
  {
   "cell_type": "code",
   "execution_count": 13,
   "id": "43cce273",
   "metadata": {},
   "outputs": [],
   "source": [
    "def r_number_to_reaction_particles(r_number):\n",
    "    if r_number == 1:\n",
    "        return [neutron, 0, H1, 0]\n",
    "    elif r_number==2:\n",
    "        return [p,n,H2,0]\n",
    "    elif r_number==3:\n",
    "        return [d,p,He3,0]\n",
    "    elif r_number==4:\n",
    "        return [d,d,n,He3]\n",
    "    elif r_number==5:\n",
    "        return [d,d,p,H3]\n",
    "    elif r_number==6:\n",
    "        return [t,d,n,He4]\n",
    "    elif r_number==7:\n",
    "        return [t,al,Li7,0]\n",
    "    elif r_number==8:\n",
    "        return [He3,n,p,t]\n",
    "    elif r_number==9:\n",
    "        return [He3,d,p,He4]\n",
    "    elif r_number==10:\n",
    "        return [He3,al,Be7,0]\n",
    "    elif r_number==11:\n",
    "        return [Li7,p,al,He4]\n",
    "    elif r_number==12:\n",
    "        return [Be7,neutron,p,Li7]\n",
    "    else:\n",
    "        print(\"Not a valid reaction number\")\n",
    "        return [0,0,0,0]\n"
   ]
  },
  {
   "cell_type": "markdown",
   "id": "a2bfccdc",
   "metadata": {},
   "source": [
    "In order to be able to differentiate between reactions with three particles involved of four particles, we put by reactions with three particles a $0$ in the fourth spot,since the gamma is not directly involved in the differential equations"
   ]
  },
  {
   "cell_type": "markdown",
   "id": "6008b9d0",
   "metadata": {},
   "source": [
    "### Help-functions for the differential equations"
   ]
  },
  {
   "cell_type": "markdown",
   "id": "da398305",
   "metadata": {},
   "source": [
    "In total there is three types of differential equation sets that describe the 12 different reactions.\n",
    "\n",
    "The first one is the differential equation set for the neutron decay, which is independent of temperature, which is as follows:\n",
    "\n",
    "$$ \\begin{equation}\n",
    "\\frac{dY_n}{dt}=-\\lambda_{\\beta}\\cdot Y_n \n",
    "\\end{equation} $$\n",
    "\n",
    "\n",
    "$$ \\begin{equation}\\frac{dY_{^1 H}}{dt}=\\lambda_{\\beta}\\cdot Y_n\\end{equation} $$\n",
    "\n",
    "Beta decay is the only reaction which is not reversable, which is why we define it later with a seperate function\n",
    "\n",
    "The second one is the differential equation set for reactions in which one of the products is gamma radiation instead of another particle: \n",
    "\n",
    "$$ \\begin{equation}\n",
    "a+b \\rightleftharpoons c+\\gamma \n",
    "\\end{equation} $$\n",
    "\n",
    "The are called radiative capture reactions.\n",
    "Unlike by neutron decay, this reaction is reversible, which is why although both types of reaction create gamma radiation, they are later defined seperatly.\n",
    "The differential equations for radiative capture reactions are the following:\n",
    "\n",
    "$$\n",
    "\\begin{align*}\n",
    "\\frac{dY_{a}}{dt} &= -Y_{a} Y_{b} n \\langle \\sigma v\\rangle + (1+\\delta_{ab}) \\lambda_{\\gamma} Y_{c} \\\\\n",
    "\\frac{dY_{b}}{dt} &= -Y_{a} Y_{b} n \\langle \\sigma v\\rangle + (1+\\delta_{ab}) \\lambda_{\\gamma} Y_{c} \\\\\n",
    "\\frac{dY_{c}}{dt} &= Y_{a} Y_{b} n \\langle \\sigma v\\rangle/(1+\\delta_{ab}) -\\lambda_{\\gamma} Y_{c}\n",
    "\\end{align*}\n",
    "$$\n",
    "\n",
    "The last differential equation set is for transfer reactions in which two particles are produced by the collision of two other particles:\n",
    "\n",
    "$$ \\begin{equation}\n",
    "a+b \\rightleftharpoons c+d\n",
    "\\end{equation} $$\n",
    "\n",
    "They are described by the following set of differential equations:\n",
    "\n",
    "$$\n",
    "\\begin{align*}\n",
    "\\frac{dY_{a}}{dt} &= -Y_{a} Y_{b} n \\langle \\sigma v\\rangle _{ab} + \\frac{1+\\delta_{ab}}{1+\\delta_{cd}} ~ Y_{c} Y_{d} n \\langle\\sigma v \\rangle _{cd}   \\\\\n",
    "\\frac{dY_{b}}{dt} &= -Y_{a} Y_{b} n \\langle \\sigma v\\rangle _{ab} + \\frac{1+\\delta_{ab}}{1+\\delta_{cd}} ~ Y_{c} Y_{d} n \\langle\\sigma v \\rangle _{cd} \\\\\n",
    "\\frac{dY_{c}}{dt} &= \\frac{1+\\delta_{cd}}{1+\\delta_{ab}} ~ Y_{a} Y_{b} n \\langle \\sigma v\\rangle _{ab} -  Y_{c} Y_{d} n \\langle\\sigma v \\rangle _{cd} \\\\\n",
    "\\frac{dY_{d}}{dt} &= \\frac{1+\\delta_{cd}}{1+\\delta_{ab}} ~ Y_{a} Y_{b} n \\langle \\sigma v\\rangle _{ab} -  Y_{c} Y_{d} n \\langle\\sigma v \\rangle _{cd}\n",
    "\\end{align*}\n",
    "$$\n"
   ]
  },
  {
   "cell_type": "markdown",
   "id": "fe4ef044",
   "metadata": {},
   "source": [
    "Both capture reactions and transfer reactions are dependent on reaction rates $\\langle\\sigma v \\rangle$ decay rates $\\lambda$ and the number density of nucleons $n$. "
   ]
  },
  {
   "cell_type": "markdown",
   "id": "1a68d5f5",
   "metadata": {},
   "source": [
    "For each direct reaction that is not the neutron decay there is an astrophysical reaction rate (in $cm^{3} s^{-1}$) that can be parametrized assuming a functional form of the temperature (in GK): \n",
    "\n",
    "$$ \\begin{equation*}\n",
    "\\langle\\sigma v\\rangle(T)=\\langle\\sigma v\\rangle_{ab}(T) = \\exp\\left\\{ a_1 + \\frac{a_2}{T} + \\frac{a_3}{T^{1/3}} + a_4 T^{1/3} + a_5 T + a_6 T^{5/3} + a_7 \\ln T \\right\\}\n",
    "\\end{equation*} $$\n",
    "\n",
    "where $a_1, \\ldots, a_7$ are parameters adjusted to reproduce the temperature dependence of the corresponding reaction rate. Said parameters are saved alongside other necessary constants.\n",
    "\n",
    "In case of transfer reactions the reaction rate for the inverse reaction is described by the following equation:\n",
    "\n",
    "$$ \\begin{equation*}\n",
    "\\langle\\sigma v \\rangle _{cd} = \\frac{(1+\\delta_{cd})}{(1+\\delta_{ab})} ~ \\frac{(2j_a+1)(2j_b+1)}{(2j_c+1)(2j_d+1)}~\\left(\\frac{A_a A_b}{A_c A_d}\\right)^{3/2} e^{-Q/(k_B T)}~\\langle\\sigma v\\rangle _{ab}\n",
    "\\end{equation*} $$\n"
   ]
  },
  {
   "cell_type": "code",
   "execution_count": null,
   "id": "d60de194",
   "metadata": {},
   "outputs": [],
   "source": []
  },
  {
   "cell_type": "code",
   "execution_count": 14,
   "id": "94f41219",
   "metadata": {},
   "outputs": [],
   "source": [
    "def kron_delta(part1,part2): #kroenecker delta for a particle 'a' (part1) and a particle 'b' (part2)\n",
    "    if part1.number == part2.number:\n",
    "        return 1\n",
    "    else:\n",
    "        return 0"
   ]
  },
  {
   "cell_type": "code",
   "execution_count": 15,
   "id": "7b5c45ce",
   "metadata": {},
   "outputs": [],
   "source": [
    "def T_value(t):\n",
    "    return 14.0/(t**(1/2))\n",
    "\n",
    "def t_Value(T):\n",
    "    return (T/14.0)**-2\n",
    "\n",
    "def n_Variable(T): #T in GK \n",
    "    return eta*(2*sci.special.zeta(3)*(kB*T)**3)/(np.pi**2 *hsc**3)#in cm**-3\n",
    "\n",
    "\n",
    "def n_eta(T,eta_value): #T in GK \n",
    "    return eta_value*(2*sci.special.zeta(3)*(kB*T)**3)/(np.pi**2 *hsc**3)#in cm**-3\n"
   ]
  },
  {
   "cell_type": "code",
   "execution_count": 16,
   "id": "5cfb2f85",
   "metadata": {},
   "outputs": [
    {
     "data": {
      "text/plain": [
       "[2.4197530864197527, 19599.999999999996]"
      ]
     },
     "execution_count": 16,
     "metadata": {},
     "output_type": "execute_result"
    }
   ],
   "source": [
    "t_min=t_Value(9)\n",
    "t_max= t_Value(0.1)\n",
    "t_span=[t_min,t_max]\n",
    "t_span"
   ]
  },
  {
   "cell_type": "code",
   "execution_count": 17,
   "id": "1403f3ef",
   "metadata": {},
   "outputs": [],
   "source": [
    "def ov_T(T,r_number): #T in GK, ov in cm**3/s**-1\n",
    "    a1, a2,a3,a4,a5,a6,a7=SIGV_PARAMS[r_number-2]#Since the first (1st) reaction beta decay is, the parameters for the 2nd reaction are saved in [0]\n",
    "    return np.exp(a1 + a2/T + a3*T**(-1/3) + a4*T**(1/3) + a5*T +a6*T**(5/3) + a7*np.log(T)) \n",
    "\n",
    "def lambda_gamma(T,part1,part2,part3,r_number):#T in GK\n",
    "    Term1=(muc2*kB*T/(2*pi**2 * hsc**2))**(3/2) #muc2*kB*T in MeV**2 , hsc**2 in (in MeV*cm)**2 #dimensionless\n",
    "\n",
    "    Term2=(2*part1.spin +1)*(2*part2.spin +1)/(2*part3.spin +1) #dimensionless\n",
    "\n",
    "    Term3=(part1.A*part2.A/part3.A)**(3/2) #dimensionless\n",
    "\n",
    "    Q=(part1.mass + part2.mass - part3.mass) # in MeV \n",
    "    \n",
    "    Term4=np.exp(-Q/(kB*T)) #Q in MeV, (kB*T) in MeV    dimensionless\n",
    "    \n",
    "    Term5=ov_T(T,r_number)/(1+kron_delta(part1,part2))\n",
    "    \n",
    "    tog=Term1*Term2*Term3*Term4*Term5  #in cm**3/s**-1\n",
    "    return tog\n"
   ]
  },
  {
   "cell_type": "code",
   "execution_count": 18,
   "id": "9a1d19c5",
   "metadata": {},
   "outputs": [],
   "source": [
    "def ov_cd(T,part1,part2,part3,part4,r_number):\n",
    "    Term1=(1+kron_delta(part3,part4))/(1+kron_delta(part1,part2))#dimensionless \n",
    "    Term2=(2*part1.spin +1)*(2*part2.spin +1)/((2*part3.spin +1)*(2*part4.spin +1))#dimensionless \n",
    "    Term3=(part1.A*part2.A/(part3.A*part4.A))**(3/2)#dimensionless \n",
    "    Q=(part1.mass + part2.mass - part3.mass - part4.mass)*muc2 #in MeV\n",
    "    Term4=np.exp(-Q/(kB*T)) #dimensionless\n",
    "    tog=Term1*Term2*Term3*Term4* ov_T(T,r_number)#dimensionless\n",
    "    return tog"
   ]
  },
  {
   "cell_type": "code",
   "execution_count": null,
   "id": "a98f7a21",
   "metadata": {},
   "outputs": [],
   "source": []
  },
  {
   "cell_type": "markdown",
   "id": "a4135556",
   "metadata": {},
   "source": [
    "## Differentialgleichungen"
   ]
  },
  {
   "cell_type": "code",
   "execution_count": 19,
   "id": "3f7844ce",
   "metadata": {},
   "outputs": [],
   "source": [
    "def dt_to_dT(T):\n",
    "    return -T**3 /392,0 "
   ]
  },
  {
   "cell_type": "code",
   "execution_count": 20,
   "id": "5293f09e",
   "metadata": {},
   "outputs": [],
   "source": [
    "def drv_beta_decay(N_liste): #Das ist für dydt\n",
    "    Ya=N_liste[0]\n",
    "    Yc=N_liste[1]\n",
    "    return [-Ya*lambda_beta, Ya*lambda_beta]\n"
   ]
  },
  {
   "cell_type": "code",
   "execution_count": 21,
   "id": "e8960aa3",
   "metadata": {},
   "outputs": [],
   "source": [
    "def drv_gammapart(T,N_liste,part1,part2,part3,r_number): #Das ist für dydt     \n",
    "    Ya = N_liste[part1.number]\n",
    "    Yb = N_liste[part2.number]\n",
    "    Yc = N_liste[part3.number]\n",
    "    dYa=-Ya*Yb*n_Variable(T)*ov_T(T,r_number)+(1+kron_delta(part1,part2))*lambda_gamma(T,part1,part2,part3,r_number)*Yc\n",
    "    dYb=-Ya*Yb*n_Variable(T)*ov_T(T,r_number)+(1+kron_delta(part1,part2))*lambda_gamma(T,part1,part2,part3,r_number)*Yc\n",
    "    dYc=Ya*Yb*n_Variable(T)*ov_T(T,r_number)/(1+kron_delta(part1,part2))-lambda_gamma(T,part1,part2,part3,r_number)*Yc\n",
    "    return np.array([dYa, dYb, dYc])"
   ]
  },
  {
   "cell_type": "code",
   "execution_count": 22,
   "id": "4c5494d9",
   "metadata": {},
   "outputs": [],
   "source": [
    "def drv_fourthpart(T,N_liste,part1,part2,part3,part4,r_number): #Das ist für dydt\n",
    "    Ya = N_liste[part1.number]\n",
    "    Yb = N_liste[part2.number]\n",
    "    Yc = N_liste[part3.number]\n",
    "    Yd = N_liste[part4.number]\n",
    "    Term1 =-Ya * Yb * n_Variable(T) * ov_T(T,r_number)\n",
    "    Term2 = (1 + kron_delta(part1, part2)) / (1 + kron_delta(part3, part4)) *  n_Variable(T) * Yc * Yd * ov_cd(T,part1, part2, part3, part4,r_number)\n",
    "    Term3 = (1 + kron_delta(part3, part4)) / (1 + kron_delta(part1, part2)) * Ya * Yb * n_Variable(T) * ov_T(T,r_number)\n",
    "    Term4 =-Yc * Yd * ov_cd(T,part1, part2, part3, part4,r_number) *  n_Variable(T) \n",
    "    \n",
    "    dYa=Term1+Term2\n",
    "    dYb=Term1+Term2\n",
    "    dYc=Term3+Term4\n",
    "    dYd=Term3+Term4\n",
    "    \n",
    "    return np.array([dYa, dYb, dYc,dYd])"
   ]
  },
  {
   "cell_type": "code",
   "execution_count": 23,
   "id": "e60711a6",
   "metadata": {},
   "outputs": [],
   "source": [
    "def master_equation_for_dT(T, N_liste):\n",
    "    dY_liste = [0, 0, 0, 0, 0, 0, 0, 0]\n",
    "    \n",
    "    for i in range(1, 13): #if i in range(1, n>8) Error message \n",
    "        particles = r_number_to_reaction_particles(i)\n",
    "        r_number = i\n",
    "        \n",
    "        if i == 1:\n",
    "            dY_beta=drv_beta_decay(N_liste)\n",
    "            dY_liste[0] =dY_liste[0] + -392 / (T ** 3) * dY_beta[0] \n",
    "            dY_liste[1] =dY_liste[1] + -392 / (T ** 3) * dY_beta[1]\n",
    "\n",
    "        else:\n",
    "            if particles[3] == 0:\n",
    "                dY_gamma=drv_gammapart(T, N_liste, particles[0], particles[1], particles[2], r_number)\n",
    "                num_a=particles[0].number #for better visibility\n",
    "                num_b=particles[1].number\n",
    "                num_c=particles[2].number\n",
    "                \n",
    "                dY_liste[num_a] =dY_liste[num_a] + -392 / (T ** 3) * dY_gamma[0]\n",
    "                dY_liste[num_b] =dY_liste[num_b] + -392 / (T ** 3) * dY_gamma[1]\n",
    "                dY_liste[num_c] =dY_liste[num_c] + -392 / (T ** 3) * dY_gamma[2]\n",
    "            else:\n",
    "                num_a=particles[0].number #for better visibility\n",
    "                num_b=particles[1].number\n",
    "                num_c=particles[2].number\n",
    "                num_d=particles[3].number\n",
    "                dY_four_particles=drv_fourthpart(T, N_liste, particles[0], particles[1], particles[2], particles[3], r_number)\n",
    "                \n",
    "                if particles[0].number == particles[1].number :\n",
    "                    dY_liste[num_b] =dY_liste[num_b] + -392 / (T ** 3) * dY_four_particles[1]\n",
    "                    dY_liste[num_c] =dY_liste[num_c] + -392 / (T ** 3) * dY_four_particles[2]\n",
    "                    dY_liste[num_d] =dY_liste[num_d] + -392 / (T ** 3) * dY_four_particles[3]\n",
    "\n",
    "                elif particles[2].number == particles[3].number:\n",
    "                    dY_liste[num_a] =dY_liste[num_a] + -392 / (T ** 3) * dY_four_particles[0]\n",
    "                    dY_liste[num_b] =dY_liste[num_b] + -392 / (T ** 3) * dY_four_particles[1]\n",
    "                    dY_liste[num_c] =dY_liste[num_c] + -392 / (T ** 3) * dY_four_particles[2]\n",
    "                \n",
    "                else:\n",
    "                    dY_liste[num_a] =dY_liste[num_a] + -392 / (T ** 3) * dY_four_particles[0]\n",
    "                    dY_liste[num_b] =dY_liste[num_b] + -392 / (T ** 3) * dY_four_particles[1]\n",
    "                    dY_liste[num_c] =dY_liste[num_c] + -392 / (T ** 3) * dY_four_particles[2]\n",
    "                    dY_liste[num_d] =dY_liste[num_d] + -392 / (T ** 3) * dY_four_particles[3]\n",
    "\n",
    "    return dY_liste\n",
    "\n"
   ]
  },
  {
   "cell_type": "code",
   "execution_count": 24,
   "id": "a1fce0bf",
   "metadata": {},
   "outputs": [],
   "source": [
    "T_span=[9,0.1]"
   ]
  },
  {
   "cell_type": "code",
   "execution_count": 25,
   "id": "fe6dd510",
   "metadata": {},
   "outputs": [],
   "source": [
    "r_tol = 1e-10\n",
    "a_tol = 1e-10\n",
    "sol_dT = solve_ivp(master_equation_for_dT, T_span, Menge_liste, method=\"BDF\",max_step=0.01, atol=a_tol,rtol=r_tol)"
   ]
  },
  {
   "cell_type": "code",
   "execution_count": 26,
   "id": "abe0e7aa",
   "metadata": {
    "scrolled": true
   },
   "outputs": [
    {
     "data": {
      "image/png": "[encoded data removed]",
      "text/plain": [
       "<Figure size 800x500 with 1 Axes>"
      ]
     },
     "metadata": {},
     "output_type": "display_data"
    }
   ],
   "source": [
    "plt.close()\n",
    "plt.figure(figsize = (8, 5))\n",
    "plt.xlabel(\"$T\\,in\\,GK$\")\n",
    "plt.ylabel(\"$Y(T)$\")\n",
    "plt.style.use(\"ggplot\")\n",
    "plt.plot(sol_dT.t, sol_dT.y[0], label = \"Neutronen\", color=\"grey\")\n",
    "plt.plot(sol_dT.t, sol_dT.y[1], label = \"H1\", color=\"cyan\")\n",
    "plt.plot(sol_dT.t, sol_dT.y[2], label = \"H2\", color=\"blue\")\n",
    "plt.plot(sol_dT.t, sol_dT.y[3], label = \"H3\", color=\"green\")\n",
    "plt.plot(sol_dT.t, sol_dT.y[4], label = \"He3\", color=\"orange\")\n",
    "plt.plot(sol_dT.t, sol_dT.y[5], label = \"alpha\", color=\"red\")\n",
    "plt.plot(sol_dT.t, sol_dT.y[6], label = \"Li7\", color=\"purple\")\n",
    "plt.plot(sol_dT.t, sol_dT.y[7], label = \"Be7\", color=\"olive\")\n",
    "\n",
    "plt.xlim(9, 0.1)\n",
    "plt.ylim(10**-12,1)\n",
    "plt.yscale('log')\n",
    "plt.xscale('log')\n",
    "plt.legend()\n",
    "plt.show()\n"
   ]
  },
  {
   "cell_type": "code",
   "execution_count": 28,
   "id": "dc131646",
   "metadata": {},
   "outputs": [],
   "source": [
    "Y_n=sol_dT.y[0]\n",
    "Y_H1=sol_dT.y[1]\n",
    "Y_H2=sol_dT.y[2]\n",
    "Y_H3=sol_dT.y[3]\n",
    "Y_He3=sol_dT.y[4]\n",
    "Y_He4=sol_dT.y[5]\n",
    "Y_Li7=sol_dT.y[6]\n",
    "Y_Be7=sol_dT.y[7]"
   ]
  },
  {
   "cell_type": "code",
   "execution_count": 30,
   "id": "76451dd6",
   "metadata": {},
   "outputs": [
    {
     "name": "stdout",
     "output_type": "stream",
     "text": [
      "All heavier particles exist at temperature T= 0.7923996734821953 GK and lower temperatures.\n"
     ]
    }
   ],
   "source": [
    "found=False\n",
    "for i in range (0,len(sol_dT.t)):\n",
    "    if found ==False:\n",
    "        for j in range(7,8):\n",
    "            if sol_dT.y[j][i]>10**(-12):\n",
    "                print('All heavier particles exist at temperature T=',sol_dT.t[i],'GK','and lower temperatures.')\n",
    "                found=True\n",
    "    "
   ]
  },
  {
   "cell_type": "code",
   "execution_count": 31,
   "id": "786e577a",
   "metadata": {},
   "outputs": [],
   "source": [
    "fig, ax = plt.subplots(figsize=(8,5))\n",
    "\n",
    "particles=[\"$Y_{n}$\", \"$Y_{1H}$\",\"$Y_{2H}$\",\"$Y_{3H}$\",\"$Y_{3He}$\",\"$Y_{4He}$\",\"$Y_{7Li}$\",\"$Y_{7Be}$\"]\n",
    "palette = [\"grey\",\"cyan\",\"blue\",\"green\",\"orange\",\"red\",\"purple\",\"olive\"]\n",
    "\n",
    "\n",
    "total_frames=len(sol_dT.t)\n",
    "\n",
    "\n",
    "\n",
    "def drawframe(i): #function to draw a single frame of the animation\n",
    "    # i stands for the frame number\n",
    "    \n",
    "    \n",
    "    \n",
    "    ax.clear()\n",
    "    ax.semilogy()\n",
    "    plt.ylabel('Abundances $Y$')\n",
    "    abundances=[Y_n[i], Y_H1[i], Y_H2[i], Y_H3[i], Y_He3[i], Y_He4[i], Y_Li7[i], Y_Be7[i]]\n",
    "    ax.set_ylim(1*10**(-12),1)\n",
    "    ax.text(6, 1*10**(-1), \"T =\"+str(np.round(sol_dT.t[i],3))+ \" GK\",fontsize=12)\n",
    "    ax.text(6.5,1*10**(-3),\"t =\"+str(np.round(t_Value(sol_dT.t[i]),1))+ \" s\",fontsize=12)\n",
    "    \n",
    "    \n",
    "    ax.bar(particles, abundances, color=palette)\n",
    "\n",
    "    \n",
    "\n",
    "anim = FuncAnimation(fig, drawframe,frames=total_frames, repeat=True,interval=100)\n",
    "anim.save('nucleosynthesis2.gif',fps=25) # Save the animation as an gif\n",
    "plt.close()\n",
    "\n",
    "#Direct playing of the animations failed, but saving the animation locally and then calling the animation \n",
    "#in a markdown cell made the visualization posible"
   ]
  },
  {
   "cell_type": "markdown",
   "id": "e1594d6a",
   "metadata": {},
   "source": [
    "![Reactions](nucleosynthesis2.gif)"
   ]
  },
  {
   "cell_type": "code",
   "execution_count": null,
   "id": "3fbeee0a",
   "metadata": {},
   "outputs": [],
   "source": [
    "\n",
    "\n"
   ]
  },
  {
   "cell_type": "markdown",
   "id": "9306b777",
   "metadata": {},
   "source": [
    "# Für dt jetzt"
   ]
  },
  {
   "cell_type": "code",
   "execution_count": null,
   "id": "a47967d0",
   "metadata": {},
   "outputs": [],
   "source": [
    "def T_value(t):\n",
    "    return 14.0/(t**(1/2))\n",
    "\n",
    "\n",
    "def t_Value(T):\n",
    "    return (T/14.0)**-2\n",
    "\n",
    "t_min=t_Value(9)\n",
    "t_max= t_Value(0.1)\n",
    "t_span=[t_min,t_max]\n",
    "t_span\n",
    "\n",
    "#t_Value(9)"
   ]
  },
  {
   "cell_type": "code",
   "execution_count": null,
   "id": "28379534",
   "metadata": {},
   "outputs": [],
   "source": [
    "def master_equation_for_dt(t, N_liste):\n",
    "    dY_liste = [0, 0, 0, 0, 0, 0, 0, 0]\n",
    "    Tdef=T_value(t)\n",
    "    for i in range(1, 13): #if i in range(1, n>8) Error message \n",
    "        particles = r_number_to_reaction_particles(i)\n",
    "        r_number = i\n",
    "        \n",
    "        if i == 1:\n",
    "            dY_beta=drv_beta_decay(N_liste)\n",
    "            dY_liste[0] =dY_liste[0] + dY_beta[0] \n",
    "            dY_liste[1] =dY_liste[1] + dY_beta[1]\n",
    "\n",
    "        else:\n",
    "            if particles[3] == 0:\n",
    "                dY_gamma=drv_gammapart(Tdef, N_liste, particles[0], particles[1], particles[2], r_number)\n",
    "                num_a=particles[0].number #for better visibility\n",
    "                num_b=particles[1].number\n",
    "                num_c=particles[2].number\n",
    "                \n",
    "                \n",
    "                dY_liste[num_a] =dY_liste[num_a] + dY_gamma[0]\n",
    "                dY_liste[num_b] =dY_liste[num_b] + dY_gamma[1]\n",
    "                dY_liste[num_c] =dY_liste[num_c] + dY_gamma[2]\n",
    "            else:\n",
    "                num_a=particles[0].number #for better visibility\n",
    "                num_b=particles[1].number\n",
    "                num_c=particles[2].number\n",
    "                num_d=particles[3].number\n",
    "                \n",
    "                dY_four_particles=drv_fourthpart(Tdef, N_liste, particles[0], particles[1], particles[2], particles[3], r_number)\n",
    "                \n",
    "                if particles[0].number == particles[1].number :\n",
    "                    dY_liste[num_b] =dY_liste[num_b] + dY_four_particles[1]\n",
    "                    dY_liste[num_c] =dY_liste[num_c] +  dY_four_particles[2]\n",
    "                    dY_liste[num_d] =dY_liste[num_d] + dY_four_particles[3]\n",
    "\n",
    "                elif particles[2].number == particles[3].number:\n",
    "                    dY_liste[num_a] =dY_liste[num_a] + dY_four_particles[0]\n",
    "                    dY_liste[num_b] =dY_liste[num_b] + dY_four_particles[1]\n",
    "                    dY_liste[num_c] =dY_liste[num_c] + dY_four_particles[2]\n",
    "                \n",
    "                else:\n",
    "                    dY_liste[num_a] =dY_liste[num_a] + dY_four_particles[0]\n",
    "                    dY_liste[num_b] =dY_liste[num_b] + dY_four_particles[1]\n",
    "                    dY_liste[num_c] =dY_liste[num_c] + dY_four_particles[2]\n",
    "                    dY_liste[num_d] =dY_liste[num_d] + dY_four_particles[3]\n",
    "\n",
    "    return dY_liste\n",
    "\n"
   ]
  },
  {
   "cell_type": "code",
   "execution_count": null,
   "id": "6a15fe6c",
   "metadata": {},
   "outputs": [],
   "source": [
    "r_tol = 1e-10\n",
    "a_tol = 1e-10\n",
    "sol2 = solve_ivp(master_equation_for_dt, t_span, Menge_liste, method=\"BDF\",max_step=0.5, atol=a_tol,rtol=r_tol)"
   ]
  },
  {
   "cell_type": "code",
   "execution_count": null,
   "id": "5069182d",
   "metadata": {},
   "outputs": [],
   "source": [
    "plt.figure(figsize = (10, 5))\n",
    "plt.xlabel(\"$t\\,in\\,s$\")\n",
    "plt.ylabel(\"$Y(T)$\")\n",
    "plt.plot(sol2.t, sol2.y[0], label = \"Neutronen\")\n",
    "plt.plot(sol2.t, sol2.y[1], label = \"H1\")\n",
    "plt.plot(sol2.t, sol2.y[2], label = \"H2\")\n",
    "plt.plot(sol2.t, sol2.y[3], label = \"H3\")\n",
    "plt.plot(sol2.t, sol2.y[4], label = \"He3\")\n",
    "plt.plot(sol2.t, sol2.y[5], label = \"alpha\")\n",
    "plt.plot(sol2.t, sol2.y[6], label = \"Li7\")\n",
    "plt.plot(sol2.t, sol2.y[7], label = \"Be7\")\n",
    "\n",
    "plt.xlim(t_min, t_max)\n",
    "plt.ylim(10**-12,1)\n",
    "plt.yscale('log')\n",
    "plt.xscale('log')\n",
    "plt.legend()\n",
    "plt.show()"
   ]
  },
  {
   "cell_type": "markdown",
   "id": "914056dc",
   "metadata": {},
   "source": [
    "# Für eta"
   ]
  },
  {
   "cell_type": "code",
   "execution_count": null,
   "id": "06d48298",
   "metadata": {},
   "outputs": [],
   "source": [
    "def drv_gammapart_eta(T, eta_value,N_liste,part1,part2,part3,r_number): #Das ist für dydt     \n",
    "    Ya = N_liste[part1.number]\n",
    "    Yb = N_liste[part2.number]\n",
    "    Yc = N_liste[part3.number]\n",
    "    dYa=-Ya*Yb*n_eta(T,eta_value)*ov_T(T,r_number)+(1+kron_delta(part1,part2))*lambda_gamma(T,part1,part2,part3,r_number)*Yc\n",
    "    dYb=-Ya*Yb*n_eta(T,eta_value)*ov_T(T,r_number)+(1+kron_delta(part1,part2))*lambda_gamma(T,part1,part2,part3,r_number)*Yc\n",
    "    dYc=Ya*Yb*n_eta(T,eta_value)*ov_T(T,r_number)/(1+kron_delta(part1,part2))-lambda_gamma(T,part1,part2,part3,r_number)*Yc\n",
    "    return np.array([dYa, dYb, dYc])"
   ]
  },
  {
   "cell_type": "code",
   "execution_count": null,
   "id": "0a6dbb5e",
   "metadata": {},
   "outputs": [],
   "source": [
    "def drv_fourthpart_eta(T, eta_value,N_liste,part1,part2,part3,part4,r_number): #Das ist für dydt\n",
    "    Ya = N_liste[part1.number]\n",
    "    Yb = N_liste[part2.number]\n",
    "    Yc = N_liste[part3.number]\n",
    "    Yd = N_liste[part4.number]\n",
    "    Term1 =-Ya * Yb * n_eta(T,eta_value) * ov_T(T,r_number)\n",
    "    Term2 = (1 + kron_delta(part1, part2)) / (1 + kron_delta(part3, part4)) * n_eta(T,eta_value) * Yc * Yd * ov_cd(T,part1, part2, part3, part4,r_number)\n",
    "    Term3 = (1 + kron_delta(part3, part4)) / (1 + kron_delta(part1, part2)) * Ya * Yb * n_eta(T,eta_value) * ov_T(T,r_number)\n",
    "    Term4 =-Yc * Yd * ov_cd(T,part1, part2, part3, part4,r_number) *  n_eta(T,eta_value) \n",
    "    \n",
    "    dYa=Term1+Term2\n",
    "    dYb=Term1+Term2\n",
    "    dYc=Term3+Term4\n",
    "    dYd=Term3+Term4\n",
    "    \n",
    "    return np.array([dYa, dYb, dYc,dYd])"
   ]
  },
  {
   "cell_type": "code",
   "execution_count": null,
   "id": "86e47f9c",
   "metadata": {},
   "outputs": [],
   "source": [
    "def master_equation_for_eta(T, N_liste,eta_value):\n",
    "    dY_liste = [0, 0, 0, 0, 0, 0, 0, 0]\n",
    "    \n",
    "    for i in range(1, 13): #if i in range(1, n>8) Error message \n",
    "        particles = r_number_to_reaction_particles(i)\n",
    "        r_number = i\n",
    "        \n",
    "        if i == 1:\n",
    "            dY_beta=drv_beta_decay(N_liste)\n",
    "            dY_liste[0] =dY_liste[0] + -392 / (T ** 3) * dY_beta[0] \n",
    "            dY_liste[1] =dY_liste[1] + -392 / (T ** 3) * dY_beta[1]\n",
    "\n",
    "        else:\n",
    "            if particles[3] == 0:\n",
    "                dY_gamma=drv_gammapart_eta(T, eta_value, N_liste, particles[0], particles[1], particles[2], r_number)\n",
    "                num_a=particles[0].number #for better visibility\n",
    "                num_b=particles[1].number\n",
    "                num_c=particles[2].number\n",
    "                \n",
    "                dY_liste[num_a] =dY_liste[num_a] + -392 / (T ** 3) * dY_gamma[0]\n",
    "                dY_liste[num_b] =dY_liste[num_b] + -392 / (T ** 3) * dY_gamma[1]\n",
    "                dY_liste[num_c] =dY_liste[num_c] + -392 / (T ** 3) * dY_gamma[2]\n",
    "            else:\n",
    "                num_a=particles[0].number #for better visibility\n",
    "                num_b=particles[1].number\n",
    "                num_c=particles[2].number\n",
    "                num_d=particles[3].number\n",
    "                dY_four_particles=drv_fourthpart_eta(T, eta_value, N_liste, particles[0], particles[1], particles[2], particles[3], r_number)\n",
    "                \n",
    "                if particles[0].number == particles[1].number :\n",
    "                    dY_liste[num_b] =dY_liste[num_b] + -392 / (T ** 3) * dY_four_particles[1]\n",
    "                    dY_liste[num_c] =dY_liste[num_c] + -392 / (T ** 3) * dY_four_particles[2]\n",
    "                    dY_liste[num_d] =dY_liste[num_d] + -392 / (T ** 3) * dY_four_particles[3]\n",
    "\n",
    "                elif particles[2].number == particles[3].number:\n",
    "                    dY_liste[num_a] =dY_liste[num_a] + -392 / (T ** 3) * dY_four_particles[0]\n",
    "                    dY_liste[num_b] =dY_liste[num_b] + -392 / (T ** 3) * dY_four_particles[1]\n",
    "                    dY_liste[num_c] =dY_liste[num_c] + -392 / (T ** 3) * dY_four_particles[2]\n",
    "                \n",
    "                else:\n",
    "                    dY_liste[num_a] =dY_liste[num_a] + -392 / (T ** 3) * dY_four_particles[0]\n",
    "                    dY_liste[num_b] =dY_liste[num_b] + -392 / (T ** 3) * dY_four_particles[1]\n",
    "                    dY_liste[num_c] =dY_liste[num_c] + -392 / (T ** 3) * dY_four_particles[2]\n",
    "                    dY_liste[num_d] =dY_liste[num_d] + -392 / (T ** 3) * dY_four_particles[3]\n",
    "\n",
    "    return dY_liste\n"
   ]
  },
  {
   "cell_type": "code",
   "execution_count": null,
   "id": "ccd76595",
   "metadata": {},
   "outputs": [],
   "source": [
    "eta_span=np.linspace(1*10**(-10),10*10**(-10), num=100, endpoint=True)\n"
   ]
  },
  {
   "cell_type": "code",
   "execution_count": null,
   "id": "5cf4c6c4",
   "metadata": {},
   "outputs": [],
   "source": [
    "sol_eta = [0 for x in range(100)]"
   ]
  },
  {
   "cell_type": "code",
   "execution_count": null,
   "id": "a8f226d0",
   "metadata": {},
   "outputs": [],
   "source": [
    "\n",
    "for i in range(0,100):\n",
    "    \n",
    "    sol_eta[i] = solve_ivp(master_equation_for_eta, T_span, Menge_liste,args=(eta_span[i],), method=\"BDF\",max_step=0.01, atol=a_tol,rtol=r_tol)"
   ]
  },
  {
   "cell_type": "code",
   "execution_count": null,
   "id": "1f184d85",
   "metadata": {},
   "outputs": [],
   "source": [
    "sol_eta"
   ]
  },
  {
   "cell_type": "code",
   "execution_count": null,
   "id": "7ba10119",
   "metadata": {},
   "outputs": [],
   "source": [
    "y1 = 0.240\n",
    "y2 = 0.258\n",
    "\n",
    "\n",
    "y3 = 2.61 *10**(-5)\n",
    "y4 = 3.03 *10**(-5)\n",
    "\n",
    "\n",
    "y5 = 1.26 *10**(-10)\n",
    "y6 = 2.14 *10**(-10)\n",
    "\n",
    "x=eta_span\n",
    "yHe4= [0 for x in range(100)]\n",
    "YdYp=[0 for x in range(100)]\n",
    "YLiYp=[0 for x in range(100)]\n",
    "\n",
    "for i in range(0,100):\n",
    "    yHe4[i]=4*sol_eta[i].y[5][-1]\n",
    "for i in range(0,100):\n",
    "    YdYp[i]=sol_eta[i].y[2][-1] / sol_eta[i].y[1][-1]\n",
    "    \n",
    "for i in range(0,100):\n",
    "    YLiYp[i]=sol_eta[i].y[2][-1] / sol_eta[i].y[1][-1]\n",
    "    \n",
    "\n"
   ]
  },
  {
   "cell_type": "code",
   "execution_count": null,
   "id": "b0f050e9",
   "metadata": {},
   "outputs": [],
   "source": [
    "plt.close()\n",
    "\n",
    "plt.figure(figsize=(6,9))\n",
    "plt.fill_between(x,y1, y2,color=\"orange\")\n",
    "plt.axhline(y=0.249, color='r', linestyle='-',linewidth=0.5)\n",
    "plt.plot(x, yHe4, label = \"4Y4He\", color='tab:brown')\n",
    "plt.title('4Y4He')\n",
    "plt.xlabel(\"$eta\\,in\\,s$\")\n",
    "plt.ylabel(\"$Y(eta,0.1GK)$\")\n",
    "\n",
    "\n",
    "plt.yscale('log')\n",
    "plt.xscale('log')\n",
    "\n",
    "\n",
    "plt.legend()\n",
    "plt.show()"
   ]
  },
  {
   "cell_type": "code",
   "execution_count": null,
   "id": "9d5bb443",
   "metadata": {},
   "outputs": [],
   "source": [
    "eta_for_Y4He4=[]\n",
    "foundY4He4=False\n",
    "for i in range (1,100):\n",
    "    if foundY4He4 ==False:\n",
    "        if yHe4[i]< y2:\n",
    "            if yHe4[i]> y1:\n",
    "                eta_for_Y4He4.append(x[i])\n",
    "            else:\n",
    "                foundY4He4=False\n",
    "                \n",
    "[eta_for_Y4He4[0],eta_for_Y4He4[-1]]"
   ]
  },
  {
   "cell_type": "code",
   "execution_count": null,
   "id": "a66ac53f",
   "metadata": {},
   "outputs": [],
   "source": [
    "plt.close()\n",
    "\n",
    "plt.yscale('log')\n",
    "plt.xscale('log')\n",
    "plt.axhline(y=2.82*10**(-5), color='r', linestyle='-')\n",
    "plt.plot(x, YdYp, label = \"YdYp\", color='tab:brown')\n",
    "plt.fill_between(x,y3, y4,color=\"orange\")\n",
    "plt.title('YdYp')\n",
    "plt.xlabel(\"$eta$\")\n",
    "plt.ylabel(\"$Y(eta,0.1GK)$\")\n",
    "\n",
    "plt.legend()\n",
    "plt.show()\n",
    "\n",
    "eta_span=np.linspace(1*10**(-10),10*10**(-10), num=100, endpoint=True)"
   ]
  },
  {
   "cell_type": "code",
   "execution_count": null,
   "id": "babbe94a",
   "metadata": {},
   "outputs": [],
   "source": [
    "eta_for_YdYp=[]\n",
    "foundYd=False\n",
    "for i in range (1,90):\n",
    "    if foundYd ==False:\n",
    "        if YdYp[i]< y4:\n",
    "            if YdYp[i]> y3:\n",
    "                eta_for_YdYp.append(x[i])\n",
    "            else:\n",
    "                foundYd=False\n",
    "                \n",
    "print('Intervall, wo die Werte einstimmen:',[eta_for_YdYp[0],eta_for_YdYp[-1]])"
   ]
  },
  {
   "cell_type": "code",
   "execution_count": null,
   "id": "bcd74b27",
   "metadata": {},
   "outputs": [
    {
     "name": "stderr",
     "output_type": "stream",
     "text": [
      "Traceback (most recent call last):\n",
      "  File \"C:\\Users\\User\\anaconda3\\lib\\site-packages\\matplotlib\\cbook\\__init__.py\", line 304, in process\n",
      "    func(*args, **kwargs)\n",
      "  File \"C:\\Users\\User\\anaconda3\\lib\\site-packages\\matplotlib\\animation.py\", line 900, in _start\n",
      "    self._init_draw()\n",
      "  File \"C:\\Users\\User\\anaconda3\\lib\\site-packages\\matplotlib\\animation.py\", line 1740, in _init_draw\n",
      "    self._draw_frame(frame_data)\n",
      "  File \"C:\\Users\\User\\anaconda3\\lib\\site-packages\\matplotlib\\animation.py\", line 1759, in _draw_frame\n",
      "    self._drawn_artists = self._func(framedata, *self._args)\n",
      "  File \"C:\\Users\\User\\AppData\\Local\\Temp\\ipykernel_1872\\2856407517.py\", line 27, in animate\n",
      "    plt.bar([\"$Y_{n}$\", \"$Y_{1H}$\",\"$Y_{2H}$\",\"$Y_{3H}$\",\"$Y_{3He}$\",\"$Y_{4He}$\",\"$Y_{7Li}$\",\"$Y_{7Be}$\"], [Yn,YH1,YH2,YH3,YHe3,YHe4,YLi7,YBe7], color=palette)\n",
      "NameError: name 'palette' is not defined\n"
     ]
    }
   ],
   "source": [
    "plt.close()\n",
    "\n",
    "plt.yscale('log')\n",
    "plt.xscale('log')\n",
    "\n",
    "plt.plot(x, yHe4, label = \"YLiYp\", color='tab:brown')\n",
    "plt.axhline(y= 1.7*10**(-10), color='r', linestyle='-',linewidth=0.5)\n",
    "plt.fill_between(x,y5, y6, color='orange')\n",
    "plt.title('YLiYp')\n",
    "plt.xlabel(\"$eta\\,in\\,s$\")\n",
    "plt.ylabel(\"$Y(eta,0.1GK)$\")\n",
    "\n",
    "plt.legend()\n",
    "plt.show()\n"
   ]
  }
 ],
 "metadata": {
  "kernelspec": {
   "display_name": "Python 3 (ipykernel)",
   "language": "python",
   "name": "python3"
  },
  "language_info": {
   "codemirror_mode": {
    "name": "ipython",
    "version": 3
   },
   "file_extension": ".py",
   "mimetype": "text/x-python",
   "name": "python",
   "nbconvert_exporter": "python",
   "pygments_lexer": "ipython3",
   "version": "3.8.16"
  }
 },
 "nbformat": 4,
 "nbformat_minor": 5
}
