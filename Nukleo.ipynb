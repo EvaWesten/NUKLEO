{
 "cells": [
  {
   "cell_type": "markdown",
   "metadata": {},
   "source": [
    "<p style=\"font-size:25px; text-align:center;\">\n",
    "A\n",
    "    Computational Physics / Numerische Verfahren in der Physik\n",
    "<br>\n",
    "<br>\n",
    "SoSe 2023\n",
    "</p>\n",
    "<br>\n",
    "<p style=\"font-size:15px; text-align:center\">\n",
    "Lorenz von Smekal, Ralf-Arno Tripolt, Robin Kehr, Johannes Roth, Leon Sieke\n",
    "<br>Justus-Liebig-Universität Gießen\n",
    "</p>\n",
    "<br>\n",
    "<p style=\"font-size:30px; color: #3776ab; text-align:center\"><b>\n",
    "Projekt 1: Big Bang Nucleosynthesis\n",
    "<b></p>"
   ]
  },
  {
   "cell_type": "markdown",
   "metadata": {},
   "source": [
    "## Description\n",
    "- Coupled system of differential equations (networks)\n",
    "- Stiff problems\n",
    "\n",
    "### Introduction\n",
    "\n",
    "According to the standard Big Bang Theory the universe started out in a state of high temperatures and densities. During the first minutes of its existence the temperatures were so large that they allowed for nuclear processes to produce the hydrogen and helium that constitute our present universe together with some trace abundances of deuterium and lithium. The process of creation of these elements is known as Big Bang Nucleosynthesis and constitutes a unique probe for the conditions prevailing during the first minutes of the Universe. The aim of this project is to develop a nuclear reaction network to compute Big Bang Nucleosynthesis. "
   ]
  },
  {
   "cell_type": "markdown",
   "metadata": {},
   "source": [
    "We start with a short introduction of the basic concepts. Let us consider a radiative capture reaction between two nuclei $a$ and $b$ to produce a third nucleus $c$ plus a photon $\\gamma$:"
   ]
  },
  {
   "cell_type": "markdown",
   "metadata": {},
   "source": [
    "$$ \\begin{equation}\n",
    "a+b \\to c+\\gamma \\tag{1}\n",
    "\\end{equation} $$"
   ]
  },
  {
   "cell_type": "markdown",
   "metadata": {},
   "source": [
    "The number of such reactions occurring per unit of time and volume is:"
   ]
  },
  {
   "cell_type": "markdown",
   "metadata": {},
   "source": [
    "rate von a + b reaktion= Reaktion pro Zeit und Volumen$$ r_{ab} = n_{a} n_{b} \\langle \\sigma v\\rangle/(1+\\delta_{ab}) $$"
   ]
  },
  {
   "cell_type": "code",
   "execution_count": 1,
   "metadata": {},
   "outputs": [
    {
     "data": {
      "text/plain": [
       "'v ist Geschwindigkeit der Protonen'"
      ]
     },
     "execution_count": 1,
     "metadata": {},
     "output_type": "execute_result"
    }
   ],
   "source": [
    "\"v ist Geschwindigkeit der Protonen\""
   ]
  },
  {
   "cell_type": "markdown",
   "metadata": {},
   "source": [
    "where $n_{a}$, $n_{b}$ are the numbers of nuclei per volume of species $a$, $b$ and $\\langle \\sigma v \\rangle$ is the so called astrophysical reaction rate that depends on the temperature of the environment. The factor $\\delta_{ab}$ (equal to $1$ if $a = b$ and $0$ otherwise) corrects for the case in which $a$ and $b$ are identical particles.  In order to separate changes of composition due to nuclear reactions from changes in the density due to expansion or contraction, it is convenient to introduce the abundance of a species $i$ as the ratio of the number of nuclei per unit of volume of species $i$ and the total number of nucleons $n$ (protons plus neutrons) per unit of volume ($n$ is maintained constant by nuclear reactions):"
   ]
  },
  {
   "cell_type": "markdown",
   "metadata": {},
   "source": [
    "$$ Y_i \\equiv \\frac{n_{i}}{n} $$"
   ]
  },
  {
   "cell_type": "markdown",
   "metadata": {},
   "source": [
    "Denoting by $A_{i}$ the number of nucleons (protons plus neutrons) contained in nucleus $i$, it is easy to show that the abundances fulfill the condition:"
   ]
  },
  {
   "cell_type": "markdown",
   "metadata": {},
   "source": [
    "$$ \\begin{equation}\n",
    "\\sum_i A_i Y_i =\\sum_i A_i \\frac{n_i}{n} = 1 \\tag{2}\n",
    "\\end{equation} $$"
   ]
  },
  {
   "cell_type": "markdown",
   "metadata": {},
   "source": [
    "The above condition can be used to check that a given implementation of a reaction as a set of differential equations is correct. For example, the reaction (1) results in the following set of three differential equations:"
   ]
  },
  {
   "cell_type": "markdown",
   "metadata": {},
   "source": [
    "$$\n",
    "\\begin{align*}\n",
    "\\frac{dY_{a}}{dt} &= -Y_{a} Y_{b} n \\langle \\sigma v\\rangle \\\\\n",
    "\\frac{dY_{b}}{dt} &= -Y_{a} Y_{b} n \\langle \\sigma v\\rangle \\\\\n",
    "\\frac{dY_{c}}{dt} &= Y_{a} Y_{b} n \\langle \\sigma v\\rangle/(1+\\delta_{ab})\n",
    "\\end{align*}\n",
    "$$"
   ]
  },
  {
   "cell_type": "markdown",
   "metadata": {},
   "source": [
    "It is easy to show that the above equations fulfill the condition (2) considering that $A_{c} = A_{a}+A_{b}$."
   ]
  },
  {
   "cell_type": "markdown",
   "metadata": {},
   "source": [
    "For the high temperatures present during Big Bang Nucleosynthesis one has to consider that not only the direct reaction (1) can occur but also the inverse reaction:"
   ]
  },
  {
   "cell_type": "markdown",
   "metadata": {},
   "source": [
    "$$ \\begin{equation}\n",
    "c+\\gamma \\to a+b \\tag{3}\n",
    "\\end{equation} $$"
   ]
  },
  {
   "cell_type": "markdown",
   "metadata": {},
   "source": [
    "This results in the following set of differential equations:"
   ]
  },
  {
   "cell_type": "markdown",
   "metadata": {},
   "source": [
    "$$\n",
    "\\begin{align*}\n",
    "\\frac{dY_{a}}{dt} &= (1+\\delta_{ab}) \\lambda_{\\gamma} Y_{c} \\\\\n",
    "\\frac{dY_{b}}{dt} &= (1+\\delta_{ab}) \\lambda_{\\gamma} Y_{c} \\\\\n",
    "\\frac{dY_{c}}{dt} &= -\\lambda_{\\gamma} Y_{c}\n",
    "\\end{align*}\n",
    "$$"
   ]
  },
  {
   "cell_type": "markdown",
   "metadata": {},
   "source": [
    "In the general case we have a situation in which both direct and inverse reactions can occur:"
   ]
  },
  {
   "cell_type": "markdown",
   "metadata": {},
   "source": [
    "$$ \\begin{equation}\n",
    "a+b \\rightleftharpoons c+\\gamma \\tag{4}\n",
    "\\end{equation} $$"
   ]
  },
  {
   "cell_type": "markdown",
   "metadata": {},
   "source": [
    "resulting in:"
   ]
  },
  {
   "cell_type": "markdown",
   "metadata": {},
   "source": [
    "$$\n",
    "\\begin{align*}\n",
    "\\frac{dY_{a}}{dt} &= -Y_{a} Y_{b} n \\langle \\sigma v\\rangle + (1+\\delta_{ab}) \\lambda_{\\gamma} Y_{c} \\\\\n",
    "\\frac{dY_{b}}{dt} &= -Y_{a} Y_{b} n \\langle \\sigma v\\rangle + (1+\\delta_{ab}) \\lambda_{\\gamma} Y_{c} \\\\\n",
    "\\frac{dY_{c}}{dt} &= Y_{a} Y_{b} n \\langle \\sigma v\\rangle/(1+\\delta_{ab}) -\\lambda_{\\gamma} Y_{c}\n",
    "\\end{align*}\n",
    "$$"
   ]
  },
  {
   "cell_type": "markdown",
   "metadata": {},
   "source": [
    "where $\\langle \\sigma v\\rangle$ and $\\lambda_{\\gamma}$ are related by detailed balance:"
   ]
  },
  {
   "cell_type": "markdown",
   "metadata": {},
   "source": [
    "$$\n",
    "\\lambda_{\\gamma} = \\left( \\frac{m_u c^2 k_B T}{2\\pi^2 (\\hbar c)^2} \\right)^{3/2} \\frac{(2j_a+1)(2j_b+1)}{(2j_c+1)}~\\left(\\frac{A_a A_b}{A_c}\\right)^{3/2} e^{-Q/(k_B T)}~\\frac{\\langle\\sigma v\\rangle}{(1+\\delta_{ab})}\n",
    "$$"
   ]
  },
  {
   "cell_type": "markdown",
   "metadata": {},
   "source": [
    "Here $Q = m_a c^2 + m_b c^2 - m_c c^2$ is the Q-value of the reaction with $m c^2$ the masses of the nuclei expressed in units of energy (normally MeV = mega electronvolts), $m_u c^2$ is the atomic mass unit (931.494 MeV), $k_B$ is the Boltzmann constant ($8.61734 \\times 10^{-11}$ MeV/K or $0.0861734$ MeV/GK, GK stands for GigaKelvin = $10^9$ K ), and $\\hbar c = 1.97327 \\times 10^{-11}$ MeV cm. Finally, $j$ denotes the ground state spin. "
   ]
  },
  {
   "cell_type": "markdown",
   "metadata": {},
   "source": [
    "In addition to radiative capture reactions one can also have transfer reactions"
   ]
  },
  {
   "cell_type": "markdown",
   "metadata": {},
   "source": [
    "$$ \\begin{equation}\n",
    "a+b \\rightleftharpoons c+d \\tag{5}\n",
    "\\end{equation} $$"
   ]
  },
  {
   "cell_type": "markdown",
   "metadata": {},
   "source": [
    "that are described by the following set of differential equations"
   ]
  },
  {
   "cell_type": "markdown",
   "metadata": {},
   "source": [
    "$$\n",
    "\\begin{align*}\n",
    "\\frac{dY_{a}}{dt} &= -Y_{a} Y_{b} n \\langle \\sigma v\\rangle _{ab} + \\frac{1+\\delta_{ab}}{1+\\delta_{cd}} ~ Y_{c} Y_{d} n \\langle\\sigma v \\rangle _{cd}   \\\\\n",
    "\\frac{dY_{b}}{dt} &= -Y_{a} Y_{b} n \\langle \\sigma v\\rangle _{ab} + \\frac{1+\\delta_{ab}}{1+\\delta_{cd}} ~ Y_{c} Y_{d} n \\langle\\sigma v \\rangle _{cd} \\\\\n",
    "\\frac{dY_{c}}{dt} &= \\frac{1+\\delta_{cd}}{1+\\delta_{ab}} ~ Y_{a} Y_{b} n \\langle \\sigma v\\rangle _{ab} -  Y_{c} Y_{d} n \\langle\\sigma v \\rangle _{cd} \\\\\n",
    "\\frac{dY_{d}}{dt} &= \\frac{1+\\delta_{cd}}{1+\\delta_{ab}} ~ Y_{a} Y_{b} n \\langle \\sigma v\\rangle _{ab} -  Y_{c} Y_{d} n \\langle\\sigma v \\rangle _{cd}\n",
    "\\end{align*}\n",
    "$$"
   ]
  },
  {
   "cell_type": "markdown",
   "metadata": {},
   "source": [
    "In this case the direct and inverse reactions are related via: j =Spin, nicht gewusst"
   ]
  },
  {
   "cell_type": "markdown",
   "metadata": {},
   "source": [
    "$$ \\begin{equation*}\n",
    "\\langle\\sigma v \\rangle _{cd} = \\frac{(1+\\delta_{cd})}{(1+\\delta_{ab})} ~ \\frac{(2j_a+1)(2j_b+1)}{(2j_c+1)(2j_d+1)}~\\left(\\frac{A_a A_b}{A_c A_d}\\right)^{3/2} e^{-Q/(k_B T)}~\\langle\\sigma v\\rangle _{ab}\n",
    "\\end{equation*} $$"
   ]
  },
  {
   "cell_type": "markdown",
   "metadata": {},
   "source": [
    "where $\\langle\\sigma v\\rangle _{ab}$ denotes the reaction rate for the direct reaction and $\\langle\\sigma v\\rangle _{cd}$  the reaction rate for the inverse reaction, and $Q=m_{a}c^2 + m_{b}c^2-m_{c}c^2 - m_{d}c^2$ here."
   ]
  },
  {
   "cell_type": "markdown",
   "metadata": {},
   "source": [
    "The following graph shows the most important nuclei and reactions for Big Bang Nucleosynthesis:"
   ]
  },
  {
   "cell_type": "markdown",
   "metadata": {},
   "source": [
    "![Reaction network](images/reaction-network.png)"
   ]
  },
  {
   "cell_type": "markdown",
   "metadata": {},
   "source": [
    "Here $d$ stands for ${}^2 \\mathrm{H}$, $t$ for ${}^2 \\mathrm{H}$, and $\\alpha$ for ${}^4 \\mathrm{He}$. The notation $a(b,d)c$ is a shorthand for $a+b \\to c+d$."
   ]
  },
  {
   "cell_type": "markdown",
   "metadata": {},
   "source": [
    "The astrophysical reaction rates (in $cm^{3} s^{-1}$) for the above reactions can be parametrized assuming a functional form of the temperature (in GK). "
   ]
  },
  {
   "cell_type": "markdown",
   "metadata": {},
   "source": [
    "$$ \\begin{equation*}\n",
    "\\langle\\sigma v\\rangle(T) = \\exp\\left\\{ a_1 + \\frac{a_2}{T} + \\frac{a_3}{T^{1/3}} + a_4 T^{1/3} + a_5 T + a_6 T^{5/3} + a_7 \\ln T \\right\\}\n",
    "\\end{equation*} $$"
   ]
  },
  {
   "cell_type": "markdown",
   "metadata": {},
   "source": [
    "where $a_1, \\ldots, a_7$ are parameters adjusted to reproduce the temperature dependence of the corresponding reaction rate. The values of these parameters for the rates shown in the above figure are given in the next table. "
   ]
  },
  {
   "cell_type": "code",
   "execution_count": 2,
   "metadata": {},
   "outputs": [],
   "source": [
    "# Parameters for the calculation of the reaction rates\n",
    "SIGV_PARAMS = [\n",
    "    # [a1, a2, a3, a4, a5, a6, a7]\n",
    "    [-38.5922, -0.00630249, 1.25159, -8.86637, 1.78419, -0.198181, 1.92028], # Reaction 2\n",
    "    [-46.8616, -0.00295519, -3.23527, 1.42088, -0.126344, 0.00974799, -0.178045], # Reaction 3\n",
    "    [-42.1159, 0.0101979, -6.1653, 10.9227, -0.654152, 0.0352096, -3.41782], # Reaction 4\n",
    "    [-43.1056, 0.0150095, -6.85042, 12.3633, -0.638696, 0.0261701, -4.16095], # Reaction 5\n",
    "    [-34.1675, -0.523, 4.63833e-10, -1.67345e-9, 1.85876e-10, -1.70346e-11, -0.666667], # Reaction 6\n",
    "    [-31.7974, -0.0137498, -5.56986, -14.1977, 2.27582, -0.19545, 2.92443], # Reaction 7\n",
    "    [-34.1075, -0.000673532, 0.0793345, -0.532712, 0.13522, -0.00748114, 0.104904], # Reaction 8\n",
    "    [-34.8617, -1.72, -4.68818e-9, 1.21488e-8, -1.10092e-9, 8.94955e-11, -0.5], # Reaction 9\n",
    "    [-38.9414, -0.000245919, -12.7758, -0.489479, -0.0881085, 0.00557341, -0.582926], # Reaction 10\n",
    "    [-32.5903, -0.0032998, -7.83923, -2.1531, 0.133483, -0.00732414, 0.20178], # Reaction 11\n",
    "    [-32.3946, 9.06317e-7, -2.04247e-9, -1.167, -4.39104e-10, 3.41812e-11, -1.98589e-9] # Reaction 12\n",
    "]"
   ]
  },
  {
   "cell_type": "markdown",
   "metadata": {},
   "source": [
    "Reaction 1 corresponds to the beta decay of the neutron that is characterized by a decay rate  $\\lambda_\\beta = 0.00113443 \\, s^{-1}$."
   ]
  },
  {
   "cell_type": "markdown",
   "metadata": {},
   "source": [
    "#### Isotope data\n",
    "\n",
    "You can use the [mendeleev](https://github.com/lmmentel/mendeleev) package to access masses and spins of the involved nuclei. A documentation is available [online](https://github.com/lmmentel/mendeleev). You can install it via \n",
    "- Anaconda: Add the channel `lmmentel` to Anaconda. Select the `mendeleev` package in your working environment. Click `Apply`. Then `mendeleev` should be installed.\n",
    "- pip: Use the command `pip install mendeleev` in your terminal.\n",
    "\n",
    "After installing `mendeleev`, you can use it like this:"
   ]
  },
  {
   "cell_type": "code",
   "execution_count": 3,
   "metadata": {},
   "outputs": [
    {
     "data": {
      "text/plain": [
       "'Helium'"
      ]
     },
     "execution_count": 3,
     "metadata": {},
     "output_type": "execute_result"
    }
   ],
   "source": [
    "from mendeleev import element\n",
    "\n",
    "# get element by atomic number\n",
    "element(2).name"
   ]
  },
  {
   "cell_type": "code",
   "execution_count": 4,
   "metadata": {},
   "outputs": [
    {
     "data": {
      "text/plain": [
       "[<Isotope(Z=2, A=3, mass=3.01602932197(6), abundance=0.0002(2))>,\n",
       " <Isotope(Z=2, A=4, mass=4.0026032541(2), abundance=99.9998(2))>,\n",
       " <Isotope(Z=2, A=5, mass=5.01206(2), abundance=None)>,\n",
       " <Isotope(Z=2, A=6, mass=6.01888589(6), abundance=None)>,\n",
       " <Isotope(Z=2, A=7, mass=7.027991(8), abundance=None)>,\n",
       " <Isotope(Z=2, A=8, mass=8.03393439(10), abundance=None)>,\n",
       " <Isotope(Z=2, A=9, mass=9.04395(5), abundance=None)>,\n",
       " <Isotope(Z=2, A=10, mass=10.05282(10), abundance=None)>]"
      ]
     },
     "execution_count": 4,
     "metadata": {},
     "output_type": "execute_result"
    }
   ],
   "source": [
    "# get isotopes\n",
    "element(2).isotopes"
   ]
  },
  {
   "cell_type": "code",
   "execution_count": 5,
   "metadata": {},
   "outputs": [
    {
     "data": {
      "text/plain": [
       "3.01602932197"
      ]
     },
     "execution_count": 5,
     "metadata": {},
     "output_type": "execute_result"
    }
   ],
   "source": [
    "# alternatively, access isotopes directly\n",
    "from mendeleev import isotope\n",
    "# for example, mendeleev provides information about the mass of He3 (in atomic mass units)\n",
    "isotope(2, 3).mass"
   ]
  },
  {
   "cell_type": "code",
   "execution_count": 6,
   "metadata": {},
   "outputs": [
    {
     "data": {
      "text/plain": [
       "'1/2'"
      ]
     },
     "execution_count": 6,
     "metadata": {},
     "output_type": "execute_result"
    }
   ],
   "source": [
    "# and also about its spin (note that this returns a string and not a float)\n",
    "isotope(2, 3).spin"
   ]
  },
  {
   "cell_type": "markdown",
   "metadata": {},
   "source": [
    "#### Time evolution\n",
    "\n",
    "It remains to determine how the temperature and density evolve during the first minutes of history of the Universe to be able to determine the evolution of the different abundances and the end products of the nucleosynthesis. At the times we are interested the evolution of the Universe is dominated by radiation. Under these conditions cosmological models predict the following dependence of temperature on time:"
   ]
  },
  {
   "cell_type": "markdown",
   "metadata": {},
   "source": [
    "$$ \\begin{equation}\n",
    "    T = \\frac{14.0}{\\sqrt{t}} \\,, \\tag{6}\n",
    "\\end{equation} $$"
   ]
  },
  {
   "cell_type": "markdown",
   "metadata": {},
   "source": [
    "where the temperature is given in GK and time in seconds. It is convenient to express this dependence as a differential equation plus an initial value condition that can be determined from equation (6):"
   ]
  },
  {
   "cell_type": "markdown",
   "metadata": {},
   "source": [
    "$$ \\frac{dT}{dt} = -\\frac{T^3}{392.0} $$"
   ]
  },
  {
   "cell_type": "markdown",
   "metadata": {},
   "source": [
    "It remains to determine the evolution of the number density of nucleons. This can be done with the condition that the number of photons per nucleon remains constant during the expansion of the universe. This is equivalent to the condition that the entropy of the universe remains constant. The number of photons per unit of volume depends only on temperature:"
   ]
  },
  {
   "cell_type": "markdown",
   "metadata": {},
   "source": [
    "$$ n_{\\gamma} = \\frac{2\\zeta(3) (k_B T)^3}{\\pi^2 c^3 \\hbar^3} $$"
   ]
  },
  {
   "cell_type": "markdown",
   "metadata": {},
   "source": [
    "where $\\zeta(z)$ denotes the Riemann zeta function. Denoting by $\\eta$ the nucleon to photon ratio we obtain"
   ]
  },
  {
   "cell_type": "markdown",
   "metadata": {},
   "source": [
    "$$ n = \\eta n_{\\gamma} = \\eta~\\frac{2\\zeta(3) (k_B T)^3}{\\pi^2 c^3 \\hbar^3} \\,. $$"
   ]
  },
  {
   "cell_type": "markdown",
   "metadata": {},
   "source": [
    "Observations of the Cosmic Microwave Background have determined that $\\eta = 6.2 \\times 10^{-10}$. proton to photon ratio p/y"
   ]
  },
  {
   "cell_type": "markdown",
   "metadata": {},
   "source": [
    "### Questions\n",
    "#### Nuclear reaction network\n",
    "\n",
    "- Write an algorithm for the creation of the system of differential equations describing the evolution of the abundances of the 8 nuclei shown in the figure above based on the 12 reactions (and their inverses) shown in the same figure. Notice that there is no inverse for neutron decay.\n",
    "\n",
    "    Hint: One possible strategy would be to base your solution on SciPy's `solve_ivp` and to implement a corresponding function that computes the right-hand sides of the rate equations. The initial conditions are specified below.\n",
    "\n",
    "    First consider the case that temperature is the independent variable to obtain a system of differential equations that determines the evolution of abundances as a function of temperature. Use the chain rule\n",
    "    $$ \\frac{dY}{dt} = \\frac{dY}{dT} \\frac{dT}{dt} = - \\frac{T^3}{392.0} \\frac{dY}{dT} $$\n",
    "    to convert time derivatives into derivatives with respect to temperature.\n",
    "\n",
    "- Next consider the case where time is the independent variable. Adjust your algorithm to solve the differential equations as functions of time (instead of temperature) by virtue of equation (6).\n",
    "\n",
    "#### Evolution of the abundances\n",
    "\n",
    "- Determine the evolution of the abundances as a function of temperature. Start the integration at a temperature of 9 GK.  At this temperature one can assume that only protons and neutrons are present and that the ratio of neutrons to protons is given by $$ \\frac{Y_n}{Y_p} = \\exp\\left\\{ -\\frac{m_n c^2 - m_p c^2}{k_B T} \\right\\} $$ with $m_n c^2 - m_p c^2= 1.293$ MeV. You can assume that at temperatures of 0.1 GK all nuclear reactions have ceased. Next, determine the evolution of the abundances as a function of time. Start the integration at the time for which the temperature is equal to 9 GK.\n",
    "\n",
    "    Hint 1: SciPy's `solve_ivp` uses by default a method  that is not suitable for stiff problems. You can change the method via the option `method=...`.  Use the [documentation](https://docs.scipy.org/doc/scipy/reference/generated/scipy.integrate.solve_ivp.html) to look up a suitable solving method. You can tune the accurateness of the solution via the option `max_step_size=...`.\n",
    "\n",
    "    Hint 2: Determining the masses and spins of the given isotopes via `mendeleev` may be too slow if you call it every time `solve_ivp` calls the right-hand side of your rate equations. If this is the case, precompute the masses and spins once at the beginning, and save the results (for example) in a Python dictionary. Then you can access the precomputed values in the dictionary when computing the rate equations.\n",
    "\n",
    "- Check that in both cases condition (2) is fulfilled. \n",
    "\n",
    "- At which temperature do elements heavier than neutrons and protons start to appear?  Why do we need to wait for such low temperatures?\n",
    "\n",
    "- Visualize the evolution of the abundances as a function of temperature, for example using `matplotlib`. This may be an animation, an interactive bar chart, or something else you find appropriate.\n",
    "\n",
    "\n",
    "\n",
    "#### Dependence of the final nucleosynthesis products on the nucleon-to-photon ratio\n",
    "\n",
    "- Compute the final abundances (at temperature 0.1 GK) for different values of the nucleon-to-photon ratio $\\eta$ in the range $1 \\times 10^{-10}$ to $10 \\times 10^{-10}$.  Can you reproduce the observed primordial abundances?\n",
    "$$ \\begin{align*}\n",
    "4 Y_{{}^4 \\mathrm{He}} &= 0.249 \\pm 0.009 \\\\\n",
    "\\frac{Y_{d}}{Y_{p}} &= ( 2.82 \\pm 0.21 ) \\times 10^{-5} \\\\\n",
    "\\frac{Y_{{}^7 \\mathrm{Li}}}{Y_{p}} &= ( 1.7 \\pm 0.44 ) \\times 10^{-10}\n",
    "\\end{align*} $$"
   ]
  },
  {
   "cell_type": "code",
   "execution_count": null,
   "metadata": {},
   "outputs": [],
   "source": []
  },
  {
   "cell_type": "markdown",
   "metadata": {},
   "source": [
    "## Nuclear reaction network"
   ]
  },
  {
   "cell_type": "markdown",
   "metadata": {},
   "source": [
    " Nukleonen, 12 Reaktion + inversionen in 1 picture\n",
    " \n",
    " No inversion for neutron decay"
   ]
  },
  {
   "cell_type": "code",
   "execution_count": 7,
   "metadata": {},
   "outputs": [
    {
     "ename": "SyntaxError",
     "evalue": "invalid syntax (1960550155.py, line 2)",
     "output_type": "error",
     "traceback": [
      "\u001b[1;36m  Cell \u001b[1;32mIn[7], line 2\u001b[1;36m\u001b[0m\n\u001b[1;33m    return -lambda_n*\u001b[0m\n\u001b[1;37m                     ^\u001b[0m\n\u001b[1;31mSyntaxError\u001b[0m\u001b[1;31m:\u001b[0m invalid syntax\n"
     ]
    }
   ],
   "source": [
    "def beta_decay(t,Nn,lambda_n):\n",
    "    return -lambda_n*"
   ]
  },
  {
   "cell_type": "markdown",
   "metadata": {},
   "source": []
  },
  {
   "cell_type": "markdown",
   "metadata": {},
   "source": [
    "## Probleme:\n",
    "1. Spin berechnen\n",
    "2. Wirkungsquantum*v berechnen\n",
    "3. Reaktionen Sortieren"
   ]
  },
  {
   "cell_type": "code",
   "execution_count": 8,
   "metadata": {},
   "outputs": [],
   "source": [
    "import scipy as sci\n",
    "import scipy.constants as constant\n",
    "import numpy as np"
   ]
  },
  {
   "cell_type": "code",
   "execution_count": 9,
   "metadata": {},
   "outputs": [],
   "source": [
    "#Konstanten\n",
    "kB=8.61734 * 10**(-11) #in MeV/K\n",
    "hsc=1.97327 * 10**(-11) #in MeV*cm\n",
    "c=sci.constants.c #in cm/s\n",
    "muc2= 931.494 #in MeV\n",
    "u_to_kg= sci.constants.u #aus 1u = 1.66053906660*10**(-27) kg\n",
    "Joule_to_eV = 1/sci.constants.e\n",
    "lambda_beta=0.00113443 #in s^-1"
   ]
  },
  {
   "cell_type": "code",
   "execution_count": 10,
   "metadata": {},
   "outputs": [],
   "source": [
    "def contains_slash(string):\n",
    "    if \"/\" in string:\n",
    "        return True\n",
    "    else:\n",
    "        return False\n",
    "\n",
    "def Spin_to_float(j):\n",
    "    if (contains_slash(j)==True):\n",
    "        # Split the string into two parts using the forward slash\n",
    "        parts = j.split(\"/\")\n",
    "        # Convert the numerator and denominator to floats\n",
    "        numerator = float(parts[0])\n",
    "        denominator = float(parts[1])\n",
    "        # Divide the numerator by the denominator\n",
    "        result = numerator / denominator\n",
    "        return result\n",
    "    \n",
    "    else:\n",
    "        return float(j)\n",
    "\n",
    "def kron_delta(part1,part2):\n",
    "    if (part1 == part2):\n",
    "        return 1\n",
    "    else:\n",
    "        return 0\n"
   ]
  },
  {
   "cell_type": "code",
   "execution_count": 11,
   "metadata": {},
   "outputs": [],
   "source": [
    "class Particle:\n",
    "    def __init__(self,mass,Z,A,j):\n",
    "        self.mass = mass * 1.66053906660*10**(-27)\n",
    "        self.Z = Z\n",
    "        self.A = A\n",
    "        self.spin = Spin_to_float(j)"
   ]
  },
  {
   "cell_type": "code",
   "execution_count": 13,
   "metadata": {},
   "outputs": [],
   "source": [
    "n=Particle(1.00866491595,0,1,'1/2')\n",
    "H1= Particle(isotope(1, 1).mass,1,1,isotope(1, 1).spin) \n",
    "H2= Particle(isotope(1, 2).mass,1,2,isotope(1, 2).spin)\n",
    "H3=Particle(isotope(1, 3).mass,1, 3,isotope(1, 3).spin)\n",
    "He3=Particle(isotope(2, 3).mass,2, 3,isotope(2, 3).spin)\n",
    "He4=Particle(isotope(2, 4).mass,2, 4,isotope(2, 4).spin)\n",
    "Li7=Particle(isotope(3, 7).mass,3, 7,isotope(1, 2).spin)\n",
    "Be7=Particle(isotope(4, 7).mass,4, 7,isotope(4,7).spin)\n",
    "\n",
    "#Just in case it becomes more comfortable to write them like this:\n",
    "p=H1 \n",
    "d=H2\n",
    "t=H3\n",
    "    "
   ]
  },
  {
   "cell_type": "code",
   "execution_count": 41,
   "metadata": {},
   "outputs": [],
   "source": [
    "def ov_T(T,reaction_number):\n",
    "    a1, a2,a3,a4,a5,a6,a7=SIGV_PARAMS[reaction_number-2]#Da 1. Reaktion das Beta Zerfall ist und das index mit 0 anfängt\n",
    "    print(a1)\n",
    "    return np.exp(a1 + a2/T + a3*T**(-1/3) + a4*T**(1/3) + a5*T +a6*T**(5/3) + a7*np.log(T))\n",
    "\n",
    "def lambda_gamma(T,part1,part2,part3,reaction_number):\n",
    "    Term1=(muc2*kB*T/(2*(sci.constants.pi)**2 * hsc**2))**(3/2)\n",
    "    Term2=(2*part1.spin +1)*(2*part2.spin +1)/(2*part3.spin +1)\n",
    "    Term3=(part1.A*part2.A/part3.A)**(3/2)\n",
    "    Q=u_to_kg*(part1.mass + part2.mass - part3.mass)*c**2 #mc^2 in Joule   \n",
    "    Term4=(Q*Joule_to_eV)/(kB*T*10**6)\n",
    "    Term5=ov_T(T,reaction_number)/(1+k_delta_part(part1,part2))\n",
    "    tog=Term1*Term2*Term3*Term4*Term5\n",
    "    return tog\n",
    "\n"
   ]
  },
  {
   "cell_type": "code",
   "execution_count": 42,
   "metadata": {},
   "outputs": [],
   "source": [
    "def ov_cd(part1,part2,part3,part4):\n",
    "    Term1=(1+k_delta_part(part3,part4))/(1+k_delta_part(part1,part2))\n",
    "    Term2=(2*part1.spin +1)*(2*part2.spin +1)/((2*part3.spin +1)*(2*part4.spin +1))\n",
    "    Term3=(part1.A*part2.A/(part3.A*part4.A))**(3/2)\n",
    "    Q=u_to_kg*(part1.mass + part2.mass - part3.mass - part4.mass)*c**2 #mc^2 in Joule \n",
    "    Term4=(Q*Joule_to_eV)/(kB*T*10**6)\n",
    "    tog=Term1*Term2*Term3*Term4*ov_cd(part3,part4,part1,part2)\n",
    "    return tog\n",
    "    "
   ]
  },
  {
   "cell_type": "code",
   "execution_count": 44,
   "metadata": {},
   "outputs": [],
   "source": [
    "def drv_beta_decay(t,N_liste):\n",
    "    Yn=N_liste[0]\n",
    "    dYn=-lambda_beta*Yn"
   ]
  },
  {
   "cell_type": "code",
   "execution_count": 43,
   "metadata": {},
   "outputs": [],
   "source": [
    "#Differential equations in which gamma is radiated:\n",
    "#2. 1H -> 2H\n",
    "\n",
    "#def drv_alle()\n",
    "\n",
    "def drv_gammapart(t,N_liste,part1,part2,part3,r_number,n):\n",
    "     \n",
    "    Ya = N_liste[0+(r_number-1)*4]\n",
    "    Yb = N_liste[1+(r_number-1)*4]\n",
    "    Yc = N_liste[2+(r_number-1)*4]\n",
    "    dYa=-Ya*Yb*n*ov_T(T,r_number)+(1+kron_delta(part1,part2))*lambda_gamma(T,part1,part2,part3,reaction_number)*Yc\n",
    "    dYb=-Ya*Yb*n*ov_T(T,r_number)+(1+kron_delta(part1,part2))*lambda_gamma(T,part1,part2,part3,reaction_number)*Yc\n",
    "    dYc=Ya*Yb*n*ov_T(T,r_number)/(1+kron_delta(part1,part2))-lambda_gamma(T,part1,part2,part3,reaction_number)*Yc\n",
    "    return[dYa,dYb,dYc]\n",
    "\n",
    "\n",
    "\n"
   ]
  },
  {
   "cell_type": "code",
   "execution_count": 40,
   "metadata": {},
   "outputs": [],
   "source": [
    "def drv_forthpart(t,N_liste,part1,part2,part3,part4,r_number,n):\n",
    "         \n",
    "    Ya = N_liste[0+(r_number-1)*4]\n",
    "    Yb = N_liste[1+(r_number-1)*4]\n",
    "    Yc = N_liste[2+(r_number-1)*4]\n",
    "    Yd = N_liste[3+(r_number-1)*4]\n",
    "    Term1 = -Ya * Yb * n * ov_cd(part3, part4, part1, part2)\n",
    "    Term2 = ((1 + k_delta_part(part3, part4)) / (1 + k_delta_part(part1, part2)))**(-1) * n * Yc * Yd * ov_cd(part1, part2, part3, part4)\n",
    "    Term3 = (1 + k_delta_part(part3, part4)) / (1 + k_delta_part(part1, part2)) * Ya * Yb * n * ov_cd(part1, part2, part3, part4)\n",
    "    Term4 = -ov_cd(part1, part2, part3, part4) * n * Yc * Yd\n",
    "    \n",
    "    dYa= Term1+Term2\n",
    "    dYb=Term1+Term2\n",
    "    dYc=Term3+Term4\n",
    "    dYd=Term3+Term4\n",
    "    \n",
    "    return[dYa,dYb,dYc,dYd]"
   ]
  },
  {
   "cell_type": "code",
   "execution_count": null,
   "metadata": {},
   "outputs": [],
   "source": [
    "def particles_of_reaction(reaction_number):\n",
    "    if (reaction_number==1)\n",
    "    \n",
    "\n",
    "class Reaction:\n",
    "    def __init__(self,number,Z,A,j):\n",
    "        self.number = mass * 1.66053906660*10**(-27)\n",
    "        self.Z = Z\n",
    "        self.A = A\n",
    "        self.spin = Spin_to_float(j)    \n",
    "    \n",
    "    \n",
    "    \n",
    "    \n",
    "def basic_info_of_reaction(r_number):\n",
    "    if r_number ==1:\n",
    "        "
   ]
  },
  {
   "cell_type": "code",
   "execution_count": null,
   "metadata": {},
   "outputs": [],
   "source": []
  },
  {
   "cell_type": "code",
   "execution_count": null,
   "metadata": {},
   "outputs": [],
   "source": []
  },
  {
   "cell_type": "code",
   "execution_count": null,
   "metadata": {},
   "outputs": [],
   "source": [
    "def dYdT (T):\n",
    "    return (-T**3/392.0)**(-1) drvdYdt()"
   ]
  }
 ],
 "metadata": {
  "kernelspec": {
   "display_name": "Python 3 (ipykernel)",
   "language": "python",
   "name": "python3"
  },
  "language_info": {
   "codemirror_mode": {
    "name": "ipython",
    "version": 3
   },
   "file_extension": ".py",
   "mimetype": "text/x-python",
   "name": "python",
   "nbconvert_exporter": "python",
   "pygments_lexer": "ipython3",
   "version": "3.8.16"
  },
  "vscode": {
   "interpreter": {
    "hash": "209def19ad27e890e13a02544c9f211645886726428d218e46c0f02f62a0b323"
   }
  }
 },
 "nbformat": 4,
 "nbformat_minor": 2
}
