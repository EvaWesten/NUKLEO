{
 "cells": [
  {
   "cell_type": "code",
   "execution_count": 2,
   "id": "7b158d42",
   "metadata": {},
   "outputs": [],
   "source": [
    "from mendeleev import element\n",
    "from mendeleev import isotope\n",
    "import scipy as sci\n",
    "from scipy.integrate import solve_ivp\n",
    "import matplotlib.pyplot as plt\n",
    "import warnings\n",
    "#suppress warnings\n",
    "warnings.filterwarnings('ignore')\n",
    "import scipy.constants as constant\n",
    "import numpy as np"
   ]
  },
  {
   "cell_type": "code",
   "execution_count": 3,
   "id": "77b0d6d3",
   "metadata": {},
   "outputs": [],
   "source": [
    "# Parameters for the calculation of the reaction rates\n",
    "SIGV_PARAMS = [\n",
    "    # [a1, a2, a3, a4, a5, a6, a7]\n",
    "    [-38.5922, -0.00630249, 1.25159, -8.86637, 1.78419, -0.198181, 1.92028], # Reaction 2\n",
    "    [-46.8616, -0.00295519, -3.23527, 1.42088, -0.126344, 0.00974799, -0.178045], # Reaction 3\n",
    "    [-42.1159, 0.0101979, -6.1653, 10.9227, -0.654152, 0.0352096, -3.41782], # Reaction 4\n",
    "    [-43.1056, 0.0150095, -6.85042, 12.3633, -0.638696, 0.0261701, -4.16095], # Reaction 5\n",
    "    [-34.1675, -0.523, 4.63833e-10, -1.67345e-9, 1.85876e-10, -1.70346e-11, -0.666667], # Reaction 6\n",
    "    [-31.7974, -0.0137498, -5.56986, -14.1977, 2.27582, -0.19545, 2.92443], # Reaction 7\n",
    "    [-34.1075, -0.000673532, 0.0793345, -0.532712, 0.13522, -0.00748114, 0.104904], # Reaction 8\n",
    "    [-34.8617, -1.72, -4.68818e-9, 1.21488e-8, -1.10092e-9, 8.94955e-11, -0.5], # Reaction 9\n",
    "    [-38.9414, -0.000245919, -12.7758, -0.489479, -0.0881085, 0.00557341, -0.582926], # Reaction 10\n",
    "    [-32.5903, -0.0032998, -7.83923, -2.1531, 0.133483, -0.00732414, 0.20178], # Reaction 11\n",
    "    [-32.3946, 9.06317e-7, -2.04247e-9, -1.167, -4.39104e-10, 3.41812e-11, -1.98589e-9] # Reaction 12\n",
    "]\n",
    "\n"
   ]
  },
  {
   "cell_type": "code",
   "execution_count": 33,
   "id": "d33870cb",
   "metadata": {},
   "outputs": [],
   "source": [
    "#Konstanten\n",
    "#Temperatur in GK\n",
    "#Masse in MeV\n",
    "kB=0.0861734 #in MeV/GK\n",
    "kBG=0.0861734 *10**(-3) #in GeV/GK\n",
    "hsc=1.97327 * 10**(-11) #in MeV*cm\n",
    "hscG=hsc*10**(-3) #in GeV*cm\n",
    "c=sci.constants.c #in cm/s\n",
    "pi=sci.constants.pi\n",
    "muc2= 931.494 # in MeV\n",
    "lambda_beta=0.00113443 #in s^-1\n",
    "nu=6.2 * 10**(-10) #dimensionless\n",
    "delta_mc2=1.293 #in MeV"
   ]
  },
  {
   "cell_type": "markdown",
   "id": "105c9015",
   "metadata": {},
   "source": [
    "## Hilfsmittel und Konstanten"
   ]
  },
  {
   "cell_type": "code",
   "execution_count": 34,
   "id": "e8f33d09",
   "metadata": {},
   "outputs": [],
   "source": [
    "def contains_slash(string): #To write spin from mendeleev to floats\n",
    "    if \"/\" in string:\n",
    "        return True\n",
    "    else:\n",
    "        return False\n",
    "\n",
    "def Spin_to_float(j):\n",
    "    if (contains_slash(j)==True):\n",
    "        # Split the string into two parts using the forward slash\n",
    "        parts = j.split(\"/\")\n",
    "        # Convert the numerator and denominator to floats\n",
    "        numerator = float(parts[0])\n",
    "        denominator = float(parts[1])\n",
    "        # Divide the numerator by the denominator\n",
    "        result = numerator / denominator\n",
    "        return result\n",
    "    \n",
    "    else:\n",
    "        return float(j)"
   ]
  },
  {
   "cell_type": "code",
   "execution_count": 35,
   "id": "66572525",
   "metadata": {},
   "outputs": [],
   "source": [
    "class Particle:\n",
    "    def __init__(self,mass,Z,A,j,number):\n",
    "        self.mass = mass * 1.66053906660*10**(-27)\n",
    "        self.Z = Z\n",
    "        self.A = A\n",
    "        self.spin = Spin_to_float(j)\n",
    "        self.number=number"
   ]
  },
  {
   "cell_type": "code",
   "execution_count": 36,
   "id": "94f41219",
   "metadata": {},
   "outputs": [],
   "source": [
    "def kron_delta(part1,part2): #kroenecker delta for a and b\n",
    "    if part1.number == part2.number:\n",
    "        return 1\n",
    "    else:\n",
    "        return 0"
   ]
  },
  {
   "cell_type": "code",
   "execution_count": 37,
   "id": "26379998",
   "metadata": {},
   "outputs": [],
   "source": [
    "neutron=Particle(1.00866491595, 0,1,'1/2',0)\n",
    "H1= Particle(isotope(1, 1).mass,1,1,isotope(1, 1).spin,1) \n",
    "H2= Particle(isotope(1, 2).mass,1,2,isotope(1, 2).spin,2)\n",
    "H3=Particle(isotope(1, 3).mass,1, 3,isotope(1, 3).spin,3)\n",
    "He3=Particle(isotope(2, 3).mass,2, 3,isotope(2, 3).spin,4)\n",
    "He4=Particle(isotope(2, 4).mass,2, 4,isotope(2, 4).spin,5)\n",
    "Li7=Particle(isotope(3, 7).mass,3, 7,isotope(3, 7).spin,6)\n",
    "Be7=Particle(isotope(4, 7).mass,4, 7,isotope(4,7).spin,7)\n",
    "\n",
    "#Just in case it becomes more comfortable to write them like this:\n",
    "n=neutron\n",
    "p=H1 \n",
    "d=H2\n",
    "t=H3\n",
    "al=He4\n",
    "\n",
    "List_Isotopes=[neutron,H1,H2,H3,He3,He4,Li7,Be7]\n"
   ]
  },
  {
   "cell_type": "code",
   "execution_count": 38,
   "id": "fd4a88bf",
   "metadata": {},
   "outputs": [],
   "source": [
    "YnYp = np.exp(-delta_mc2/(kB*9))\n",
    "Yp0= 1 /(1+YnYp)\n",
    "Yn0=YnYp* Yp0\n"
   ]
  },
  {
   "cell_type": "code",
   "execution_count": 39,
   "id": "7843b036",
   "metadata": {},
   "outputs": [
    {
     "data": {
      "text/plain": [
       "[0.15880036892613, 0.8411996310738701, 0, 0, 0, 0, 0, 0]"
      ]
     },
     "execution_count": 39,
     "metadata": {},
     "output_type": "execute_result"
    }
   ],
   "source": [
    "Y_n0=Yn0 \n",
    "Y_H10=Yp0\n",
    "Y_H20=0\n",
    "Y_H30=0\n",
    "Y_He30=0\n",
    "Y_He40=0\n",
    "Y_Li70=0\n",
    "Y_Be70=0\n",
    "\n",
    "\n",
    "Menge_liste=[Y_n0,Y_H10,Y_H20,Y_H30,Y_He30,Y_He40,Y_Li70,Y_Be70]\n",
    "Menge_liste"
   ]
  },
  {
   "cell_type": "markdown",
   "id": "6008b9d0",
   "metadata": {},
   "source": [
    "## Nicht-Differentialgleichungen"
   ]
  },
  {
   "cell_type": "code",
   "execution_count": 11,
   "id": "7b5c45ce",
   "metadata": {},
   "outputs": [],
   "source": [
    "\n",
    "def n_Variable(T): #T in GK \n",
    "    return nu*(2*sci.special.zeta(3)*(kB*T)**3)/(np.pi *hsc)**3 #in cm**-3\n",
    "\n"
   ]
  },
  {
   "cell_type": "code",
   "execution_count": 12,
   "id": "1403f3ef",
   "metadata": {},
   "outputs": [],
   "source": [
    "def ov_T(T,r_number): #T in GK, ov in cm**3/s**-1\n",
    "    a1, a2,a3,a4,a5,a6,a7=SIGV_PARAMS[r_number-2]#Since the first (1st) reaction beta decay is, the parameters for the 2nd reaction are saved in [0]\n",
    "    return np.exp(a1 + a2/T + a3*T**(-1/3) + a4*T**(1/3) + a5*T +a6*T**(5/3) + a7*np.log(T)) \n",
    "\n",
    "def lambda_gamma(T,part1,part2,part3,r_number):#T in GK\n",
    "    Term1=(muc2*kB*T/(2*pi**2 * hsc**2))**(3/2) #muc2*kB*T in MeV**2 , hsc**2 in (in MeV*cm)**2 #dimensionless\n",
    "    Term2=(2*part1.spin +1)*(2*part2.spin +1)/(2*part3.spin +1) #dimensionless\n",
    "    Term3=(part1.A*part2.A/part3.A)**(3/2) #dimensionless\n",
    "    Q=(part1.mass + part2.mass - part3.mass)*muc2 # in MeV  \n",
    "    Term4=np.exp(-Q/(kB*T)) #Q in MeV, (kB*T) in MeV    dimensionless\n",
    "    Term5=ov_T(T,r_number)/(1+kron_delta(part1,part2))\n",
    "    tog=Term1*Term2*Term3*Term4*Term5  #in cm**3/s**-1\n",
    "    return tog\n",
    "\n"
   ]
  },
  {
   "cell_type": "code",
   "execution_count": 13,
   "id": "9a1d19c5",
   "metadata": {},
   "outputs": [],
   "source": [
    "def ov_cd(T,part1,part2,part3,part4,r_number):\n",
    "    Term1=(1+kron_delta(part3,part4))/(1+kron_delta(part1,part2))#dimensionless \n",
    "    Term2=(2*part1.spin +1)*(2*part2.spin +1)/((2*part3.spin +1)*(2*part4.spin +1))#dimensionless \n",
    "    Term3=(part1.A*part2.A/(part3.A*part4.A))**(3/2)#dimensionless \n",
    "    Q=(part1.mass + part2.mass - part3.mass - part4.mass)*muc2 #in MeV\n",
    "    Term4=np.exp(-(Q*10**-3)/(kB*T))\n",
    "    tog=Term1*Term2*Term3*Term4* ov_T(T,r_number)\n",
    "    return tog"
   ]
  },
  {
   "cell_type": "code",
   "execution_count": 16,
   "id": "0e69f52d",
   "metadata": {},
   "outputs": [],
   "source": [
    "def T_values(t):\n",
    "    return 14.0/np.sqrt(t)\n",
    "\n",
    "#don't know if it is necessary"
   ]
  },
  {
   "cell_type": "code",
   "execution_count": 17,
   "id": "43cce273",
   "metadata": {},
   "outputs": [],
   "source": [
    "def r_number_to_reaction_particles(r_number):\n",
    "    if r_number == 1:\n",
    "        return [neutron, 0, H1, 0]\n",
    "    elif r_number==2:\n",
    "        return [p,n,H2,0]\n",
    "    elif r_number==3:\n",
    "        return [d,p,He3,0]\n",
    "    elif r_number==4:\n",
    "        return [d,d,n,He3]\n",
    "    elif r_number==5:\n",
    "        return [d,d,p,H3]\n",
    "    elif r_number==6:\n",
    "        return [t,d,n,He4]\n",
    "    elif r_number==7:\n",
    "        return [t,al,Li7,0]\n",
    "    elif r_number==8:\n",
    "        return [He3,n,p,t]\n",
    "    elif r_number==9:\n",
    "        return [He3,d,p,He4]\n",
    "    elif r_number==10:\n",
    "        return [He3,al,Be7,0]\n",
    "    elif r_number==11:\n",
    "        return [Li7,p,al,He4]\n",
    "    elif r_number==12:\n",
    "        return [Be7,neutron,p,Li7]\n",
    "    else:\n",
    "        print(\"Not a valid reaction number\")\n",
    "        return [0,0,0,0]\n"
   ]
  },
  {
   "cell_type": "markdown",
   "id": "a4135556",
   "metadata": {},
   "source": [
    "## Differentialgleichungen"
   ]
  },
  {
   "cell_type": "code",
   "execution_count": 18,
   "id": "3f7844ce",
   "metadata": {},
   "outputs": [],
   "source": [
    "def dt_to_dT(T):\n",
    "    return -T**3 /392,0 "
   ]
  },
  {
   "cell_type": "code",
   "execution_count": 19,
   "id": "5293f09e",
   "metadata": {},
   "outputs": [],
   "source": [
    "def drv_beta_decay(N_liste): #Das ist für dydt\n",
    "    Ya=N_liste[0]\n",
    "    Yc=N_liste[1]\n",
    "    return [-Ya*lambda_beta, Ya*lambda_beta]\n"
   ]
  },
  {
   "cell_type": "code",
   "execution_count": 24,
   "id": "e8960aa3",
   "metadata": {},
   "outputs": [],
   "source": [
    "def drv_gammapart(T,N_liste,part1,part2,part3,r_number): #Das ist für dydt     \n",
    "    Ya = N_liste[part1.number]\n",
    "    Yb = N_liste[part2.number]\n",
    "    Yc = N_liste[part3.number]\n",
    "    dYa=-Ya*Yb*n_Variable(T)*ov_T(T,r_number)+(1+kron_delta(part1,part2))*lambda_gamma(T,part1,part2,part3,r_number)*Yc\n",
    "    dYb=-Ya*Yb*n_Variable(T)*ov_T(T,r_number)+(1+kron_delta(part1,part2))*lambda_gamma(T,part1,part2,part3,r_number)*Yc\n",
    "    dYc=Ya*Yb*n_Variable(T)*ov_T(T,r_number)/(1+kron_delta(part1,part2))-lambda_gamma(T,part1,part2,part3,r_number)*Yc\n",
    "    return np.array([dYa, dYb, dYc])"
   ]
  },
  {
   "cell_type": "code",
   "execution_count": 25,
   "id": "4c5494d9",
   "metadata": {},
   "outputs": [],
   "source": [
    "def drv_fourthpart(T,N_liste,part1,part2,part3,part4,r_number): #Das ist für dydt\n",
    "    Ya = N_liste[part1.number]\n",
    "    Yb = N_liste[part2.number]\n",
    "    Yc = N_liste[part3.number]\n",
    "    Yd = N_liste[part4.number]\n",
    "    Term1 =-Ya * Yb * n_Variable(T) * ov_T(T,r_number)\n",
    "    Term2 = (1 + kron_delta(part1, part2)) / (1 + kron_delta(part3, part4)) *  n_Variable(T) * Yc * Yd * ov_cd(T,part1, part2, part3, part4,r_number)\n",
    "    Term3 = (1 + kron_delta(part3, part4)) / (1 + kron_delta(part1, part2)) * Ya * Yb * n_Variable(T) * ov_T(T,r_number)\n",
    "    Term4 =-Yc * Yd * ov_cd(T,part1, part2, part3, part4,r_number) *  n_Variable(T) \n",
    "    \n",
    "    dYa=Term1+Term2\n",
    "    dYb=Term1+Term2\n",
    "    dYc=Term3+Term4\n",
    "    dYd=Term3+Term4\n",
    "    \n",
    "    return np.array([dYa, dYb, dYc,dYd])"
   ]
  },
  {
   "cell_type": "code",
   "execution_count": 26,
   "id": "19360d15",
   "metadata": {},
   "outputs": [
    {
     "data": {
      "text/plain": [
       "8.82326890151225e-20"
      ]
     },
     "execution_count": 26,
     "metadata": {},
     "output_type": "execute_result"
    }
   ],
   "source": [
    "\n",
    "ov_T(9,2)"
   ]
  },
  {
   "cell_type": "code",
   "execution_count": 27,
   "id": "e60711a6",
   "metadata": {},
   "outputs": [],
   "source": [
    "def master_equation_for_dT2(T, N_liste):\n",
    "    dN_liste = [0, 0, 0, 0, 0, 0, 0, 0]\n",
    "    \n",
    "    for i in range(1, 13): #if i in range(1, n>8) Error message \n",
    "        particles = r_number_to_reaction_particles(i)\n",
    "        r_number = i\n",
    "        \n",
    "        if i == 1:\n",
    "            dN_liste[0] =dN_liste[0] + -392 / (T ** 3) * drv_beta_decay(N_liste)[0] \n",
    "            dN_liste[1] =dN_liste[1] + -392 / (T ** 3) * drv_beta_decay(N_liste)[1]\n",
    "         #   print('beta')\n",
    "\n",
    "        else:\n",
    "            if particles[3] == 0:\n",
    "                dY_gamma=drv_gammapart(T, N_liste, particles[0], particles[1], particles[2], r_number)\n",
    "                num_a=particles[0].number #for better visibility\n",
    "                num_b=particles[1].number\n",
    "                num_c=particles[2].number\n",
    "                \n",
    "                dN_liste[num_a] =dN_liste[num_a] + -392 / (T ** 3) * dY_gamma[0]\n",
    "                dN_liste[num_b] =dN_liste[num_b] + -392 / (T ** 3) * dY_gamma[1]\n",
    "                dN_liste[num_c] =dN_liste[num_c] + -392 / (T ** 3) * dY_gamma[2]\n",
    "            else:\n",
    "                num_a=particles[0].number #for better visibility\n",
    "                num_b=particles[1].number\n",
    "                num_c=particles[2].number\n",
    "                num_d=particles[3].number\n",
    "                dY_four_particles=drv_fourthpart(T, N_liste, particles[0], particles[1], particles[2], particles[3], r_number)\n",
    "                \n",
    "                if particles[0].number == particles[1].number :\n",
    "                    dN_liste[num_b] =dN_liste[num_b] + -392 / (T ** 3) * dY_four_particles[1]\n",
    "                    dN_liste[num_c] =dN_liste[num_c] + -392 / (T ** 3) * dY_four_particles[2]\n",
    "                    dN_liste[num_d] =dN_liste[num_d] + -392 / (T ** 3) * dY_four_particles[3]\n",
    "\n",
    "                elif particles[2].number == particles[3].number:\n",
    "                    dN_liste[num_a] =dN_liste[num_a] + -392 / (T ** 3) * dY_four_particles[0]\n",
    "                    dN_liste[num_b] =dN_liste[num_b] + -392 / (T ** 3) * dY_four_particles[1]\n",
    "                    dN_liste[num_c] =dN_liste[num_c] + -392 / (T ** 3) * dY_four_particles[2]\n",
    "                \n",
    "                else:\n",
    "                    dN_liste[num_a] =dN_liste[num_a] + -392 / (T ** 3) * dY_four_particles[0]\n",
    "                    dN_liste[num_b] =dN_liste[num_b] + -392 / (T ** 3) * dY_four_particles[1]\n",
    "                    dN_liste[num_c] =dN_liste[num_c] + -392 / (T ** 3) * dY_four_particles[2]\n",
    "                    dN_liste[num_d] =dN_liste[num_d] + -392 / (T ** 3) * dY_four_particles[3]\n",
    "\n",
    "    return dN_liste\n",
    "\n"
   ]
  },
  {
   "cell_type": "code",
   "execution_count": 28,
   "id": "c62504be",
   "metadata": {},
   "outputs": [
    {
     "data": {
      "text/plain": [
       "[18.49803840313522,\n",
       " 18.49784466382716,\n",
       " -18.49794153348119,\n",
       " 0.0,\n",
       " 0.0,\n",
       " 0.0,\n",
       " 0.0,\n",
       " 0.0]"
      ]
     },
     "execution_count": 28,
     "metadata": {},
     "output_type": "execute_result"
    }
   ],
   "source": [
    "master_equation_for_dT2(9, Menge_liste)"
   ]
  },
  {
   "cell_type": "code",
   "execution_count": 30,
   "id": "fe6dd510",
   "metadata": {},
   "outputs": [],
   "source": [
    "T_span=[9,0.1]\n",
    "\n",
    "r_tol = 1e-10\n",
    "a_tol = 1e-10\n",
    "sol = solve_ivp(master_equation_for_dT2, T_span, Menge_liste, method=\"BDF\",max_step=0.01, atol=a_tol,rtol=r_tol)"
   ]
  },
  {
   "cell_type": "code",
   "execution_count": 31,
   "id": "fb64b68c",
   "metadata": {},
   "outputs": [
    {
     "data": {
      "text/plain": [
       "  message: The solver successfully reached the end of the integration interval.\n",
       "  success: True\n",
       "   status: 0\n",
       "        t: [ 9.000e+00  9.000e+00 ...  1.011e-01  1.000e-01]\n",
       "        y: [[ 1.588e-01  1.588e-01 ...  5.458e-11  3.892e-11]\n",
       "            [ 8.412e-01  8.412e-01 ...  1.000e+00  1.000e+00]\n",
       "            ...\n",
       "            [ 0.000e+00  8.438e-78 ... -1.675e-70 -2.369e-70]\n",
       "            [ 0.000e+00  9.067e-86 ...  3.228e-66 -8.193e-66]]\n",
       "      sol: None\n",
       " t_events: None\n",
       " y_events: None\n",
       "     nfev: 2186\n",
       "     njev: 17\n",
       "      nlu: 174"
      ]
     },
     "execution_count": 31,
     "metadata": {},
     "output_type": "execute_result"
    }
   ],
   "source": [
    "sol"
   ]
  },
  {
   "cell_type": "code",
   "execution_count": 32,
   "id": "abe0e7aa",
   "metadata": {
    "scrolled": true
   },
   "outputs": [
    {
     "data": {
      "image/png": "[encoded data removed]",
      "text/plain": [
       "<Figure size 1000x500 with 1 Axes>"
      ]
     },
     "metadata": {},
     "output_type": "display_data"
    }
   ],
   "source": [
    "\n",
    "plt.figure(figsize = (10, 5))\n",
    "plt.xlabel(\"$T\\,in\\,GK$\")\n",
    "plt.ylabel(\"$Y(T)\\,/\\,Yn(9GK)$\")\n",
    "plt.plot(sol.t, sol.y[0], label = \"Neutronen\")\n",
    "plt.plot(sol.t, sol.y[1], label = \"H1\")\n",
    "plt.plot(sol.t, sol.y[2], label = \"H2\")\n",
    "plt.plot(sol.t, sol.y[3], label = \"H3\")\n",
    "plt.plot(sol.t, sol.y[4], label = \"He3\")\n",
    "plt.plot(sol.t, sol.y[5], label = \"alpha\")\n",
    "plt.plot(sol.t, sol.y[6], label = \"Li7\")\n",
    "plt.plot(sol.t, sol.y[7], label = \"Be7\")\n",
    "plt.plot(sol.t, (sol.y[0]+sol.y[1]*H1.A+sol.y[2]*H2.A+sol.y[3]*H3.A+sol.y[4]*He3.A+sol.y[5]*He4.A+sol.y[6]*Li7.A+sol.y[7]*Be7.A), label = \"Alle\")\n",
    "\n",
    "plt.xlim(9, 0.1)\n",
    "#plt.ylim(10**-60,1)\n",
    "plt.yscale('log')\n",
    "plt.xscale('log')\n",
    "plt.legend()\n",
    "plt.show()"
   ]
  },
  {
   "cell_type": "code",
   "execution_count": null,
   "id": "1800f3cc",
   "metadata": {},
   "outputs": [],
   "source": []
  },
  {
   "cell_type": "code",
   "execution_count": null,
   "id": "6fcbbb09",
   "metadata": {},
   "outputs": [],
   "source": []
  }
 ],
 "metadata": {
  "kernelspec": {
   "display_name": "Python 3 (ipykernel)",
   "language": "python",
   "name": "python3"
  },
  "language_info": {
   "codemirror_mode": {
    "name": "ipython",
    "version": 3
   },
   "file_extension": ".py",
   "mimetype": "text/x-python",
   "name": "python",
   "nbconvert_exporter": "python",
   "pygments_lexer": "ipython3",
   "version": "3.8.16"
  }
 },
 "nbformat": 4,
 "nbformat_minor": 5
}
