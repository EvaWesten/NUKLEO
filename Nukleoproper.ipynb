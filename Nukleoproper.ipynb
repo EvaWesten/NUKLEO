{
 "cells": [
  {
   "cell_type": "code",
   "execution_count": 20,
   "id": "656e7c00",
   "metadata": {},
   "outputs": [],
   "source": [
    "# Parameters for the calculation of the reaction rates\n",
    "SIGV_PARAMS = [\n",
    "    # [a1, a2, a3, a4, a5, a6, a7]\n",
    "    [-38.5922, -0.00630249, 1.25159, -8.86637, 1.78419, -0.198181, 1.92028], # Reaction 2\n",
    "    [-46.8616, -0.00295519, -3.23527, 1.42088, -0.126344, 0.00974799, -0.178045], # Reaction 3\n",
    "    [-42.1159, 0.0101979, -6.1653, 10.9227, -0.654152, 0.0352096, -3.41782], # Reaction 4\n",
    "    [-43.1056, 0.0150095, -6.85042, 12.3633, -0.638696, 0.0261701, -4.16095], # Reaction 5\n",
    "    [-34.1675, -0.523, 4.63833e-10, -1.67345e-9, 1.85876e-10, -1.70346e-11, -0.666667], # Reaction 6\n",
    "    [-31.7974, -0.0137498, -5.56986, -14.1977, 2.27582, -0.19545, 2.92443], # Reaction 7\n",
    "    [-34.1075, -0.000673532, 0.0793345, -0.532712, 0.13522, -0.00748114, 0.104904], # Reaction 8\n",
    "    [-34.8617, -1.72, -4.68818e-9, 1.21488e-8, -1.10092e-9, 8.94955e-11, -0.5], # Reaction 9\n",
    "    [-38.9414, -0.000245919, -12.7758, -0.489479, -0.0881085, 0.00557341, -0.582926], # Reaction 10\n",
    "    [-32.5903, -0.0032998, -7.83923, -2.1531, 0.133483, -0.00732414, 0.20178], # Reaction 11\n",
    "    [-32.3946, 9.06317e-7, -2.04247e-9, -1.167, -4.39104e-10, 3.41812e-11, -1.98589e-9] # Reaction 12\n",
    "]"
   ]
  },
  {
   "cell_type": "code",
   "execution_count": 21,
   "id": "e85c5595",
   "metadata": {},
   "outputs": [],
   "source": [
    "from mendeleev import element\n",
    "from mendeleev import isotope\n",
    "import scipy as sci\n",
    "import scipy.constants as constant\n",
    "import numpy as np"
   ]
  },
  {
   "cell_type": "code",
   "execution_count": 24,
   "id": "95629c85",
   "metadata": {},
   "outputs": [],
   "source": [
    "#Konstanten\n",
    "#Temperatur in GK\n",
    "#Masse in MeV\n",
    "kB=0.0861734 #in MeV/GK\n",
    "kBG=0.0861734 *10**(-3) #in GeV/GK\n",
    "hsc=1.97327 * 10**(-11) #in MeV*cm\n",
    "hscG=hsc*10**(-3) #in GeV*cm\n",
    "c=sci.constants.c #in cm/s\n",
    "muc2= 931.494 # uc2 in MeV\n",
    "Joule_to_GeV = 1/(sci.constants.e*10**6)\n",
    "lambda_beta=0.00113443 #in s^-1\n",
    "nu=6.2 * 10**(-10)"
   ]
  },
  {
   "cell_type": "markdown",
   "id": "6212f680",
   "metadata": {},
   "source": [
    "## Hilfsmittel und Konstanten"
   ]
  },
  {
   "cell_type": "code",
   "execution_count": 25,
   "id": "111c20b5",
   "metadata": {},
   "outputs": [],
   "source": [
    "class Particle:\n",
    "    def __init__(self,mass,Z,A,j):\n",
    "        self.mass = mass * 1.66053906660*10**(-27)\n",
    "        self.Z = Z\n",
    "        self.A = A\n",
    "        self.spin = Spin_to_float(j)"
   ]
  },
  {
   "cell_type": "code",
   "execution_count": 26,
   "id": "5ed45462",
   "metadata": {},
   "outputs": [],
   "source": [
    "def contains_slash(string):\n",
    "    if \"/\" in string:\n",
    "        return True\n",
    "    else:\n",
    "        return False\n",
    "\n",
    "def Spin_to_float(j):\n",
    "    if (contains_slash(j)==True):\n",
    "        # Split the string into two parts using the forward slash\n",
    "        parts = j.split(\"/\")\n",
    "        # Convert the numerator and denominator to floats\n",
    "        numerator = float(parts[0])\n",
    "        denominator = float(parts[1])\n",
    "        # Divide the numerator by the denominator\n",
    "        result = numerator / denominator\n",
    "        return result\n",
    "    \n",
    "    else:\n",
    "        return float(j)\n",
    "\n",
    "def kron_delta(part1,part2):\n",
    "    if (part1 == part2):\n",
    "        return 1\n",
    "    else:\n",
    "        return 0\n",
    "\n",
    "    "
   ]
  },
  {
   "cell_type": "code",
   "execution_count": 27,
   "id": "60269360",
   "metadata": {},
   "outputs": [],
   "source": [
    "n=Particle(1.00866491595,0,1,'1/2')\n",
    "H1= Particle(isotope(1, 1).mass,1,1,isotope(1, 1).spin) \n",
    "H2= Particle(isotope(1, 2).mass,1,2,isotope(1, 2).spin)\n",
    "H3=Particle(isotope(1, 3).mass,1, 3,isotope(1, 3).spin)\n",
    "He3=Particle(isotope(2, 3).mass,2, 3,isotope(2, 3).spin)\n",
    "He4=Particle(isotope(2, 4).mass,2, 4,isotope(2, 4).spin)\n",
    "Li7=Particle(isotope(3, 7).mass,3, 7,isotope(1, 2).spin)\n",
    "Be7=Particle(isotope(4, 7).mass,4, 7,isotope(4,7).spin)\n",
    "\n",
    "#Just in case it becomes more comfortable to write them like this:\n",
    "p=H1 \n",
    "d=H2\n",
    "t=H3\n"
   ]
  },
  {
   "cell_type": "markdown",
   "id": "056ef0a8",
   "metadata": {},
   "source": [
    "## Nicht-Differentialgleichungen"
   ]
  },
  {
   "cell_type": "code",
   "execution_count": 37,
   "id": "113b710e",
   "metadata": {},
   "outputs": [],
   "source": [
    "\n",
    "def n(T): #T muss in GK eingegeben werden\n",
    "    return nu*(2*sci.special.zeta(3)*(kB*T)**3)/(np.pi *hsc)**3\n",
    "\n"
   ]
  },
  {
   "cell_type": "code",
   "execution_count": 38,
   "id": "86d7cb2f",
   "metadata": {},
   "outputs": [],
   "source": [
    "def ov_T(T,r_number):\n",
    "    a1, a2,a3,a4,a5,a6,a7=SIGV_PARAMS[reaction_number-2]#Da 1. Reaktion das Beta Zerfall ist und das index mit 0 anfängt\n",
    "    return np.exp(a1 + a2/T + a3*T**(-1/3) + a4*T**(1/3) + a5*T +a6*T**(5/3) + a7*np.log(T))\n",
    "\n",
    "def lambda_gamma(T,part1,part2,part3,reaction_number):\n",
    "    Term1=(muc2*kB*T/(2*(sci.constants.pi)**2 * hsc**2))**(3/2)\n",
    "    Term2=(2*part1.spin +1)*(2*part2.spin +1)/(2*part3.spin +1)\n",
    "    Term3=(part1.A*part2.A/part3.A)**(3/2)\n",
    "    Q=(part1.mass + part2.mass - part3.mass)*muc2 #mc^2 in Joule   \n",
    "    Term4=(Q*10**-3)/(kB*T) #Q*10**-3 sodass Q in GeV ist\n",
    "    Term5=ov_T(T,reaction_number)/(1+k_delta_part(part1,part2))\n",
    "    tog=Term1*Term2*Term3*Term4*Term5\n",
    "    return tog\n",
    "\n"
   ]
  },
  {
   "cell_type": "code",
   "execution_count": 39,
   "id": "278cfd95",
   "metadata": {},
   "outputs": [],
   "source": [
    "def ov_cd(T,part1,part2,part3,part4,r_number):\n",
    "    Term1=(1+k_delta_part(part3,part4))/(1+k_delta_part(part1,part2))\n",
    "    Term2=(2*part1.spin +1)*(2*part2.spin +1)/((2*part3.spin +1)*(2*part4.spin +1))\n",
    "    Term3=(part1.A*part2.A/(part3.A*part4.A))**(3/2)\n",
    "    Q=u_to_kg*(part1.mass + part2.mass - part3.mass - part4.mass)*c**2 #mc^2 in Joule \n",
    "    Term4=(Q*Joule_to_GeV)/(kB*T)\n",
    "    tog=Term1*Term2*Term3*Term4* ov_T(T,r_number)\n",
    "    return tog"
   ]
  },
  {
   "cell_type": "code",
   "execution_count": 40,
   "id": "6107444f",
   "metadata": {},
   "outputs": [],
   "source": [
    "def T(t):\n",
    "    return 14.0/np.sqrt(t)"
   ]
  },
  {
   "cell_type": "markdown",
   "id": "2b65f84d",
   "metadata": {},
   "source": [
    "## Differentialgleichung"
   ]
  },
  {
   "cell_type": "code",
   "execution_count": 30,
   "id": "1a78d616",
   "metadata": {},
   "outputs": [],
   "source": [
    "def dt_to_dT(T):\n",
    "    return -T**3 /392,0 "
   ]
  },
  {
   "cell_type": "code",
   "execution_count": null,
   "id": "0ca33b19",
   "metadata": {},
   "outputs": [],
   "source": [
    "def drv_gammapart(T,N_liste,part1,part2,part3,r_number,n): #Das ist für dyDT\n",
    "     \n",
    "    Ya = N_liste[0+(r_number-1)*4]\n",
    "    Yb = N_liste[1+(r_number-1)*4]\n",
    "    Yc = N_liste[2+(r_number-1)*4]\n",
    "    dYa=-Ya*Yb*n(T)*ov_T(T,r_number)+(1+kron_delta(part1,part2))*lambda_gamma(T,part1,part2,part3,reaction_number)*Yc\n",
    "    dYb=-Ya*Yb*n(T)*ov_T(T,r_number)+(1+kron_delta(part1,part2))*lambda_gamma(T,part1,part2,part3,reaction_number)*Yc\n",
    "    dYc=Ya*Yb*n(T)*ov_T(T,r_number)/(1+kron_delta(part1,part2))-lambda_gamma(T,part1,part2,part3,reaction_number)*Yc\n",
    "    return[dYa,dYb,dYc]\n",
    "\n",
    "\n",
    "\n"
   ]
  },
  {
   "cell_type": "code",
   "execution_count": null,
   "id": "f8a063cf",
   "metadata": {},
   "outputs": [],
   "source": [
    "def drv_forthpart(T,N_liste,part1,part2,part3,part4,r_number,n):\n",
    "         \n",
    "    Ya = N_liste[0+(r_number-1)*4]\n",
    "    Yb = N_liste[1+(r_number-1)*4]\n",
    "    Yc = N_liste[2+(r_number-1)*4]\n",
    "    Yd = N_liste[3+(r_number-1)*4]\n",
    "    Term1 = -Ya * Yb * n * ov_T(T,r_number)\n",
    "    Term2 = ((1 + k_delta_part(part3, part4)) / (1 + k_delta_part(part1, part2)))**(-1) *  n(T) * Yc * Yd * ov_cd(part1, part2, part3, part4)\n",
    "    Term3 = (1 + k_delta_part(part3, part4)) / (1 + k_delta_part(part1, part2)) * Ya * Yb * n(T) * ov_T(T,r_number)\n",
    "    Term4 = -ov_cd(part1, part2, part3, part4) *  n(T) * Yc * Yd\n",
    "    \n",
    "    dYa= Term1+Term2\n",
    "    dYb=Term1+Term2\n",
    "    dYc=Term3+Term4\n",
    "    dYd=Term3+Term4\n",
    "    \n",
    "    return[dYa,dYb,dYc,dYd]"
   ]
  },
  {
   "cell_type": "code",
   "execution_count": null,
   "id": "c0060491",
   "metadata": {},
   "outputs": [],
   "source": []
  },
  {
   "cell_type": "code",
   "execution_count": null,
   "id": "749598e4",
   "metadata": {},
   "outputs": [],
   "source": []
  },
  {
   "cell_type": "code",
   "execution_count": null,
   "id": "22b14a8a",
   "metadata": {},
   "outputs": [],
   "source": []
  },
  {
   "cell_type": "code",
   "execution_count": null,
   "id": "f12e021b",
   "metadata": {},
   "outputs": [],
   "source": []
  }
 ],
 "metadata": {
  "kernelspec": {
   "display_name": "Python 3 (ipykernel)",
   "language": "python",
   "name": "python3"
  },
  "language_info": {
   "codemirror_mode": {
    "name": "ipython",
    "version": 3
   },
   "file_extension": ".py",
   "mimetype": "text/x-python",
   "name": "python",
   "nbconvert_exporter": "python",
   "pygments_lexer": "ipython3",
   "version": "3.8.16"
  }
 },
 "nbformat": 4,
 "nbformat_minor": 5
}
